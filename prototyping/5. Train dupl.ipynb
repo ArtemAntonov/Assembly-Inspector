{
 "cells": [
  {
   "cell_type": "code",
   "execution_count": 1,
   "id": "0a7cca72",
   "metadata": {},
   "outputs": [
    {
     "name": "stderr",
     "output_type": "stream",
     "text": [
      "WARNING:torchao.kernel.intmm:Warning: Detected no triton, on systems without Triton certain kernels will not work\n",
      "W1002 16:16:07.956000 265752 site-packages\\torch\\distributed\\elastic\\multiprocessing\\redirects.py:29] NOTE: Redirects are currently not supported in Windows or MacOs.\n"
     ]
    }
   ],
   "source": [
    "import os\n",
    "os.environ[\"CUBLAS_WORKSPACE_CONFIG\"] = \":4096:8\"\n",
    "\n",
    "import torch\n",
    "from src.d05_regression_model import Trainer\n",
    "\n",
    "torch.use_deterministic_algorithms(True) \n"
   ]
  },
  {
   "cell_type": "code",
   "execution_count": 2,
   "id": "1b16b06f",
   "metadata": {},
   "outputs": [],
   "source": [
    "trainer = Trainer('cuda', tracking=True, experiment='Assembly Inspector Counter')"
   ]
  },
  {
   "cell_type": "code",
   "execution_count": 3,
   "id": "0c864934",
   "metadata": {},
   "outputs": [],
   "source": [
    "#model = trainer.train_model(folder='./data/temp/counting_imgs/screwdriver/scale_0.35', part='screwdriver', num_in_assembly=1)"
   ]
  },
  {
   "cell_type": "code",
   "execution_count": null,
   "id": "b8faff57",
   "metadata": {},
   "outputs": [
    {
     "name": "stdout",
     "output_type": "stream",
     "text": [
      "Training...\n"
     ]
    }
   ],
   "source": [
    "model = trainer.train_model(folder='./data/temp/counting_imgs/wheels_five/scale_0.2', part='screw', num_in_assembly=5)"
   ]
  },
  {
   "cell_type": "code",
   "execution_count": null,
   "id": "4a74ae2d",
   "metadata": {},
   "outputs": [],
   "source": [
    "dls = trainer.get_dataloaders('./data/temp/counting_imgs/screwdriver/scale_0.35/screwdriver', [1, 672, 378], 1)"
   ]
  },
  {
   "cell_type": "code",
   "execution_count": null,
   "id": "c4c66063",
   "metadata": {},
   "outputs": [],
   "source": []
  }
 ],
 "metadata": {
  "kernelspec": {
   "display_name": "AssemblyInspector",
   "language": "python",
   "name": "python3"
  },
  "language_info": {
   "codemirror_mode": {
    "name": "ipython",
    "version": 3
   },
   "file_extension": ".py",
   "mimetype": "text/x-python",
   "name": "python",
   "nbconvert_exporter": "python",
   "pygments_lexer": "ipython3",
   "version": "3.13.2"
  }
 },
 "nbformat": 4,
 "nbformat_minor": 5
}
