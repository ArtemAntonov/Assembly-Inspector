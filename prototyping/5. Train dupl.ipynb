{
 "cells": [
  {
   "cell_type": "code",
   "execution_count": 1,
   "id": "0a7cca72",
   "metadata": {},
   "outputs": [
    {
     "name": "stderr",
     "output_type": "stream",
     "text": [
      "WARNING:torchao.kernel.intmm:Warning: Detected no triton, on systems without Triton certain kernels will not work\n",
      "W0929 14:33:48.896000 113048 site-packages\\torch\\distributed\\elastic\\multiprocessing\\redirects.py:29] NOTE: Redirects are currently not supported in Windows or MacOs.\n"
     ]
    }
   ],
   "source": [
    "import os\n",
    "os.environ[\"CUBLAS_WORKSPACE_CONFIG\"] = \":4096:8\"\n",
    "\n",
    "import torch\n",
    "from src.d05_multiclass_model import Trainer\n",
    "\n",
    "torch.use_deterministic_algorithms(True) \n"
   ]
  },
  {
   "cell_type": "code",
   "execution_count": 2,
   "id": "1b16b06f",
   "metadata": {},
   "outputs": [],
   "source": [
    "trainer = Trainer('cuda', tracking=True, experiment='Assembly Inspector Counter Classifier')"
   ]
  },
  {
   "cell_type": "code",
   "execution_count": null,
   "id": "0c864934",
   "metadata": {},
   "outputs": [],
   "source": [
    "#model = trainer.train_model(folder='./data/temp/counting_imgs/screwdriver/scale_0.35', part='screwdriver', num_in_assembly=1)"
   ]
  },
  {
   "cell_type": "code",
   "execution_count": 3,
   "id": "b8faff57",
   "metadata": {},
   "outputs": [
    {
     "name": "stdout",
     "output_type": "stream",
     "text": [
      "Training...\n"
     ]
    },
    {
     "ename": "RuntimeError",
     "evalue": "\"nll_loss_forward_reduce_cuda_kernel_2d_index\" not implemented for 'Float'",
     "output_type": "error",
     "traceback": [
      "\u001b[31m---------------------------------------------------------------------------\u001b[39m",
      "\u001b[31mRuntimeError\u001b[39m                              Traceback (most recent call last)",
      "\u001b[36mCell\u001b[39m\u001b[36m \u001b[39m\u001b[32mIn[3]\u001b[39m\u001b[32m, line 1\u001b[39m\n\u001b[32m----> \u001b[39m\u001b[32m1\u001b[39m model = trainer.train_model(folder=\u001b[33m'\u001b[39m\u001b[33m./data/temp/counting_imgs/wheels_five/scale_0.2\u001b[39m\u001b[33m'\u001b[39m, part=\u001b[33m'\u001b[39m\u001b[33mscrew\u001b[39m\u001b[33m'\u001b[39m, num_in_assembly=\u001b[32m5\u001b[39m)\n",
      "\u001b[36mFile \u001b[39m\u001b[32mc:\\Users\\dfskl\\Jupyter notebooks\\kaggle\\Assembly-Inspector\\prototyping\\src\\d05_multiclass_model.py:253\u001b[39m, in \u001b[36mTrainer.train_model\u001b[39m\u001b[34m(self, folder, part, num_in_assembly, epochs, weight_decay, model)\u001b[39m\n\u001b[32m    251\u001b[39m     e += \u001b[32m1\u001b[39m\n\u001b[32m    252\u001b[39m     \u001b[38;5;28mself\u001b[39m._train(loaders[\u001b[33m\"\u001b[39m\u001b[33mtrain\u001b[39m\u001b[33m\"\u001b[39m], model, optimizer)            \n\u001b[32m--> \u001b[39m\u001b[32m253\u001b[39m     errors = \u001b[38;5;28mself\u001b[39m._test_and_log(loaders, model, e)\n\u001b[32m    255\u001b[39m \u001b[38;5;28;01mif\u001b[39;00m errors > \u001b[32m0\u001b[39m:\n\u001b[32m    256\u001b[39m     \u001b[38;5;28mprint\u001b[39m(\u001b[33mf\u001b[39m\u001b[33m\"\u001b[39m\u001b[33mUnsuccessful training with final \u001b[39m\u001b[38;5;132;01m{\u001b[39;00merrors\u001b[38;5;132;01m}\u001b[39;00m\u001b[33m errors\u001b[39m\u001b[33m\"\u001b[39m)\n",
      "\u001b[36mFile \u001b[39m\u001b[32mc:\\Users\\dfskl\\Jupyter notebooks\\kaggle\\Assembly-Inspector\\prototyping\\src\\d05_multiclass_model.py:186\u001b[39m, in \u001b[36mTrainer._test_and_log\u001b[39m\u001b[34m(self, loaders, model, e)\u001b[39m\n\u001b[32m    183\u001b[39m \u001b[38;5;28;01mdef\u001b[39;00m\u001b[38;5;250m \u001b[39m\u001b[34m_test_and_log\u001b[39m(\n\u001b[32m    184\u001b[39m     \u001b[38;5;28mself\u001b[39m, loaders: \u001b[38;5;28mdict\u001b[39m, model: NN, e: \u001b[38;5;28mint\u001b[39m\n\u001b[32m    185\u001b[39m ) -> \u001b[38;5;28mint\u001b[39m:\n\u001b[32m--> \u001b[39m\u001b[32m186\u001b[39m     test_loss, test_errors, conf_test_errors  = \u001b[38;5;28mself\u001b[39m._test(loaders[\u001b[33m\"\u001b[39m\u001b[33mtest\u001b[39m\u001b[33m\"\u001b[39m], model)\n\u001b[32m    187\u001b[39m     train_loss, train_errors, conf_train_errors = \u001b[38;5;28mself\u001b[39m._test(loaders[\u001b[33m\"\u001b[39m\u001b[33mtrain\u001b[39m\u001b[33m\"\u001b[39m], model)\n\u001b[32m    188\u001b[39m     assembly_loss, assembly_errors, conf_assembly_errors = \u001b[38;5;28mself\u001b[39m._test([loaders[\u001b[33m\"\u001b[39m\u001b[33massembly\u001b[39m\u001b[33m\"\u001b[39m],], model)\n",
      "\u001b[36mFile \u001b[39m\u001b[32mc:\\Users\\dfskl\\Jupyter notebooks\\kaggle\\Assembly-Inspector\\prototyping\\src\\d05_multiclass_model.py:137\u001b[39m, in \u001b[36mTrainer._test\u001b[39m\u001b[34m(self, dataloaders, model)\u001b[39m\n\u001b[32m    134\u001b[39m y = y.to(\u001b[38;5;28mself\u001b[39m.device).float()\n\u001b[32m    135\u001b[39m pred = model(X)\u001b[38;5;66;03m#.view(-1)            \u001b[39;00m\n\u001b[32m--> \u001b[39m\u001b[32m137\u001b[39m loss += \u001b[38;5;28mself\u001b[39m.loss_fn(pred, y).item()                    \n\u001b[32m    138\u001b[39m pred = nn.functional.softmax(pred, \u001b[32m1\u001b[39m)\n\u001b[32m    139\u001b[39m errors += torch.sum(torch.round(pred) != y).item()\n",
      "\u001b[36mFile \u001b[39m\u001b[32mc:\\Users\\dfskl\\anaconda3\\envs\\AssemblyInspector\\Lib\\site-packages\\torch\\nn\\modules\\module.py:1751\u001b[39m, in \u001b[36mModule._wrapped_call_impl\u001b[39m\u001b[34m(self, *args, **kwargs)\u001b[39m\n\u001b[32m   1749\u001b[39m     \u001b[38;5;28;01mreturn\u001b[39;00m \u001b[38;5;28mself\u001b[39m._compiled_call_impl(*args, **kwargs)  \u001b[38;5;66;03m# type: ignore[misc]\u001b[39;00m\n\u001b[32m   1750\u001b[39m \u001b[38;5;28;01melse\u001b[39;00m:\n\u001b[32m-> \u001b[39m\u001b[32m1751\u001b[39m     \u001b[38;5;28;01mreturn\u001b[39;00m \u001b[38;5;28mself\u001b[39m._call_impl(*args, **kwargs)\n",
      "\u001b[36mFile \u001b[39m\u001b[32mc:\\Users\\dfskl\\anaconda3\\envs\\AssemblyInspector\\Lib\\site-packages\\torch\\nn\\modules\\module.py:1762\u001b[39m, in \u001b[36mModule._call_impl\u001b[39m\u001b[34m(self, *args, **kwargs)\u001b[39m\n\u001b[32m   1757\u001b[39m \u001b[38;5;66;03m# If we don't have any hooks, we want to skip the rest of the logic in\u001b[39;00m\n\u001b[32m   1758\u001b[39m \u001b[38;5;66;03m# this function, and just call forward.\u001b[39;00m\n\u001b[32m   1759\u001b[39m \u001b[38;5;28;01mif\u001b[39;00m \u001b[38;5;129;01mnot\u001b[39;00m (\u001b[38;5;28mself\u001b[39m._backward_hooks \u001b[38;5;129;01mor\u001b[39;00m \u001b[38;5;28mself\u001b[39m._backward_pre_hooks \u001b[38;5;129;01mor\u001b[39;00m \u001b[38;5;28mself\u001b[39m._forward_hooks \u001b[38;5;129;01mor\u001b[39;00m \u001b[38;5;28mself\u001b[39m._forward_pre_hooks\n\u001b[32m   1760\u001b[39m         \u001b[38;5;129;01mor\u001b[39;00m _global_backward_pre_hooks \u001b[38;5;129;01mor\u001b[39;00m _global_backward_hooks\n\u001b[32m   1761\u001b[39m         \u001b[38;5;129;01mor\u001b[39;00m _global_forward_hooks \u001b[38;5;129;01mor\u001b[39;00m _global_forward_pre_hooks):\n\u001b[32m-> \u001b[39m\u001b[32m1762\u001b[39m     \u001b[38;5;28;01mreturn\u001b[39;00m forward_call(*args, **kwargs)\n\u001b[32m   1764\u001b[39m result = \u001b[38;5;28;01mNone\u001b[39;00m\n\u001b[32m   1765\u001b[39m called_always_called_hooks = \u001b[38;5;28mset\u001b[39m()\n",
      "\u001b[36mFile \u001b[39m\u001b[32mc:\\Users\\dfskl\\anaconda3\\envs\\AssemblyInspector\\Lib\\site-packages\\torch\\nn\\modules\\loss.py:1297\u001b[39m, in \u001b[36mCrossEntropyLoss.forward\u001b[39m\u001b[34m(self, input, target)\u001b[39m\n\u001b[32m   1296\u001b[39m \u001b[38;5;28;01mdef\u001b[39;00m\u001b[38;5;250m \u001b[39m\u001b[34mforward\u001b[39m(\u001b[38;5;28mself\u001b[39m, \u001b[38;5;28minput\u001b[39m: Tensor, target: Tensor) -> Tensor:\n\u001b[32m-> \u001b[39m\u001b[32m1297\u001b[39m     \u001b[38;5;28;01mreturn\u001b[39;00m F.cross_entropy(\n\u001b[32m   1298\u001b[39m         \u001b[38;5;28minput\u001b[39m,\n\u001b[32m   1299\u001b[39m         target,\n\u001b[32m   1300\u001b[39m         weight=\u001b[38;5;28mself\u001b[39m.weight,\n\u001b[32m   1301\u001b[39m         ignore_index=\u001b[38;5;28mself\u001b[39m.ignore_index,\n\u001b[32m   1302\u001b[39m         reduction=\u001b[38;5;28mself\u001b[39m.reduction,\n\u001b[32m   1303\u001b[39m         label_smoothing=\u001b[38;5;28mself\u001b[39m.label_smoothing,\n\u001b[32m   1304\u001b[39m     )\n",
      "\u001b[36mFile \u001b[39m\u001b[32mc:\\Users\\dfskl\\anaconda3\\envs\\AssemblyInspector\\Lib\\site-packages\\torch\\nn\\functional.py:3494\u001b[39m, in \u001b[36mcross_entropy\u001b[39m\u001b[34m(input, target, weight, size_average, ignore_index, reduce, reduction, label_smoothing)\u001b[39m\n\u001b[32m   3492\u001b[39m \u001b[38;5;28;01mif\u001b[39;00m size_average \u001b[38;5;129;01mis\u001b[39;00m \u001b[38;5;129;01mnot\u001b[39;00m \u001b[38;5;28;01mNone\u001b[39;00m \u001b[38;5;129;01mor\u001b[39;00m reduce \u001b[38;5;129;01mis\u001b[39;00m \u001b[38;5;129;01mnot\u001b[39;00m \u001b[38;5;28;01mNone\u001b[39;00m:\n\u001b[32m   3493\u001b[39m     reduction = _Reduction.legacy_get_string(size_average, reduce)\n\u001b[32m-> \u001b[39m\u001b[32m3494\u001b[39m \u001b[38;5;28;01mreturn\u001b[39;00m torch._C._nn.cross_entropy_loss(\n\u001b[32m   3495\u001b[39m     \u001b[38;5;28minput\u001b[39m,\n\u001b[32m   3496\u001b[39m     target,\n\u001b[32m   3497\u001b[39m     weight,\n\u001b[32m   3498\u001b[39m     _Reduction.get_enum(reduction),\n\u001b[32m   3499\u001b[39m     ignore_index,\n\u001b[32m   3500\u001b[39m     label_smoothing,\n\u001b[32m   3501\u001b[39m )\n",
      "\u001b[31mRuntimeError\u001b[39m: \"nll_loss_forward_reduce_cuda_kernel_2d_index\" not implemented for 'Float'"
     ]
    }
   ],
   "source": [
    "model = trainer.train_model(folder='./data/temp/counting_imgs/wheels_five/scale_0.2', part='screw', num_in_assembly=5)"
   ]
  },
  {
   "cell_type": "code",
   "execution_count": 6,
   "id": "af8e6ed6",
   "metadata": {},
   "outputs": [
    {
     "data": {
      "text/plain": [
       "tensor([1.4769])"
      ]
     },
     "execution_count": 6,
     "metadata": {},
     "output_type": "execute_result"
    }
   ],
   "source": [
    "import torch\n",
    "tensor = torch.tensor([[1.4769]])\n",
    "tensor.view(-1)"
   ]
  },
  {
   "cell_type": "code",
   "execution_count": 5,
   "id": "4a74ae2d",
   "metadata": {},
   "outputs": [],
   "source": [
    "dls = trainer.get_dataloaders('./data/temp/counting_imgs/screwdriver/scale_0.35/screwdriver', [1, 672, 378], 1)"
   ]
  },
  {
   "cell_type": "code",
   "execution_count": 20,
   "id": "b5dca0f8",
   "metadata": {},
   "outputs": [],
   "source": [
    "preds = []\n",
    "ys =[]\n",
    "model.eval()\n",
    "with torch.no_grad():\n",
    "    for X, y in dls[\"assembly\"]:\n",
    "        ys.append(y)\n",
    "        X = X.to('cuda')\n",
    "        pred = model(X).squeeze()\n",
    "        preds.append(pred)"
   ]
  },
  {
   "cell_type": "code",
   "execution_count": null,
   "id": "4f8456d6",
   "metadata": {},
   "outputs": [],
   "source": [
    "preds_lst = []\n",
    "for pred in preds:\n",
    "    preds_lst+=(preds[0].tolist())\n"
   ]
  },
  {
   "cell_type": "code",
   "execution_count": 27,
   "id": "1b97be39",
   "metadata": {},
   "outputs": [
    {
     "ename": "TypeError",
     "evalue": "'tuple' object does not support item assignment",
     "output_type": "error",
     "traceback": [
      "\u001b[31m---------------------------------------------------------------------------\u001b[39m",
      "\u001b[31mTypeError\u001b[39m                                 Traceback (most recent call last)",
      "\u001b[36mCell\u001b[39m\u001b[36m \u001b[39m\u001b[32mIn[27]\u001b[39m\u001b[32m, line 1\u001b[39m\n\u001b[32m----> \u001b[39m\u001b[32m1\u001b[39m dls[\u001b[33m\"\u001b[39m\u001b[33massembly\u001b[39m\u001b[33m\"\u001b[39m].dataset.dataset[\u001b[32m0\u001b[39m][\u001b[32m1\u001b[39m] = \u001b[32m32\u001b[39m\n\u001b[32m      2\u001b[39m dls[\u001b[33m\"\u001b[39m\u001b[33massembly\u001b[39m\u001b[33m\"\u001b[39m].dataset.dataset[\u001b[32m0\u001b[39m][\u001b[32m1\u001b[39m]\n",
      "\u001b[31mTypeError\u001b[39m: 'tuple' object does not support item assignment"
     ]
    }
   ],
   "source": [
    "dls[\"assembly\"].dataset.dataset[0][1] = 32\n",
    "dls[\"assembly\"].dataset.dataset[0][1]"
   ]
  },
  {
   "cell_type": "code",
   "execution_count": 19,
   "id": "2122d716",
   "metadata": {},
   "outputs": [
    {
     "data": {
      "text/plain": [
       "(array([ 98.,  98.,  98.,   0.,   0.,   0.,  98.,   0., 392., 784.]),\n",
       " array([2.23133588, 2.30396211, 2.37658834, 2.44921458, 2.52184081,\n",
       "        2.59446704, 2.66709328, 2.73971951, 2.81234574, 2.88497198,\n",
       "        2.95759821]),\n",
       " <BarContainer object of 10 artists>)"
      ]
     },
     "execution_count": 19,
     "metadata": {},
     "output_type": "execute_result"
    },
    {
     "data": {
      "image/png": "[encoded data removed]",
      "text/plain": [
       "<Figure size 640x480 with 1 Axes>"
      ]
     },
     "metadata": {},
     "output_type": "display_data"
    }
   ],
   "source": [
    "import matplotlib.pyplot as plt\n",
    "\n",
    "plt.hist(preds_lst)"
   ]
  },
  {
   "cell_type": "code",
   "execution_count": null,
   "id": "c4c66063",
   "metadata": {},
   "outputs": [],
   "source": []
  }
 ],
 "metadata": {
  "kernelspec": {
   "display_name": "AssemblyInspector",
   "language": "python",
   "name": "python3"
  },
  "language_info": {
   "codemirror_mode": {
    "name": "ipython",
    "version": 3
   },
   "file_extension": ".py",
   "mimetype": "text/x-python",
   "name": "python",
   "nbconvert_exporter": "python",
   "pygments_lexer": "ipython3",
   "version": "3.13.2"
  }
 },
 "nbformat": 4,
 "nbformat_minor": 5
}
