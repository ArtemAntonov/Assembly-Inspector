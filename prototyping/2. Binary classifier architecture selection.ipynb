{
 "cells": [
  {
   "cell_type": "code",
   "execution_count": 1,
   "id": "80947053-6cb7-4713-84fc-3d1c22040302",
   "metadata": {},
   "outputs": [],
   "source": [
    "import os\n",
    "os.environ[\"CUBLAS_WORKSPACE_CONFIG\"] = \":4096:8\"\n",
    "import torch\n",
    "import torch.nn as nn\n",
    "import torchvision.transforms.v2 as transforms\n",
    "from collections import Counter\n",
    "from torch.utils.data import Subset, SubsetRandomSampler, DataLoader\n",
    "#import training_v1\n",
    "from src.d02_binary_model import Trainer, CustomImageFolder\n",
    "\n",
    "import tqdm\n",
    "\n",
    "device='cuda'\n",
    "torch.use_deterministic_algorithms(True) "
   ]
  },
  {
   "cell_type": "code",
   "execution_count": 2,
   "id": "bcb754dc-dd33-4ea5-aeb8-6aa6766d21f2",
   "metadata": {},
   "outputs": [],
   "source": [
    "trainer = Trainer('cuda', tracking=True, experiment='Assembly Inspector')"
   ]
  },
  {
   "cell_type": "code",
   "execution_count": 3,
   "id": "76e756f6-6461-4b01-97ee-0b6190012cc5",
   "metadata": {},
   "outputs": [],
   "source": [
    "import torch"
   ]
  },
  {
   "cell_type": "markdown",
   "id": "39ef19e4-9a9c-4362-b407-74bcaa553097",
   "metadata": {},
   "source": [
    "### Coins"
   ]
  },
  {
   "cell_type": "markdown",
   "id": "c4b94632-ee82-4e7a-8ff1-cca4698d63f5",
   "metadata": {},
   "source": [
    "#### Selected size"
   ]
  },
  {
   "cell_type": "code",
   "execution_count": 4,
   "id": "b663afa1-dc66-4fdc-8a9e-65020b84f5e3",
   "metadata": {},
   "outputs": [
    {
     "name": "stdout",
     "output_type": "stream",
     "text": [
      "Initial target samples amount: 240; non target samples amount: 608; final amount: 1216\n",
      "Testing batch_size 2\n",
      "success\n",
      "Freemem: 15497953280\n",
      "Testing batch_size 3\n",
      "success\n",
      "Freemem: 15470690304\n",
      "Testing batch_size 16\n",
      "success\n",
      "Freemem: 15032385536\n",
      "Selected batch_size 16\n",
      "Training...\n",
      "Training finished successfully in 3 epochs\n",
      "🏃 View run ._data_temp_coins_scale_0.2__assembly at: http://127.0.0.1:8080/#/experiments/482274532250461682/runs/d3a4370da0544094a34832e9d3c4097d\n",
      "🧪 View experiment at: http://127.0.0.1:8080/#/experiments/482274532250461682\n"
     ]
    },
    {
     "name": "stderr",
     "output_type": "stream",
     "text": [
      "Registered model '._data_temp_coins_scale_0.2__assembly' already exists. Creating a new version of this model...\n",
      "Created version '16' of model '._data_temp_coins_scale_0.2__assembly'.\n"
     ]
    }
   ],
   "source": [
    "model = trainer.train_model(folder='./data/temp/coins/scale_0.2/', target_class='assembly')"
   ]
  },
  {
   "cell_type": "code",
   "execution_count": 5,
   "id": "3f8b45e5-2515-47c1-9149-79268a83d67a",
   "metadata": {},
   "outputs": [
    {
     "name": "stdout",
     "output_type": "stream",
     "text": [
      "Training existing model\n",
      "Initial target samples amount: 225; non target samples amount: 623; final amount: 1246\n",
      "Reused batch_size 16\n",
      "Training...\n",
      "Training finished successfully in 9 epochs\n"
     ]
    },
    {
     "name": "stderr",
     "output_type": "stream",
     "text": [
      "Registered model '._data_temp_coins_scale_0.2__coin_1' already exists. Creating a new version of this model...\n",
      "Created version '14' of model '._data_temp_coins_scale_0.2__coin_1'.\n"
     ]
    },
    {
     "name": "stdout",
     "output_type": "stream",
     "text": [
      "🏃 View run ._data_temp_coins_scale_0.2__coin_1 at: http://127.0.0.1:8080/#/experiments/482274532250461682/runs/a14413ff26bc44dc91c73b603de4f76b\n",
      "🧪 View experiment at: http://127.0.0.1:8080/#/experiments/482274532250461682\n"
     ]
    }
   ],
   "source": [
    "model = trainer.train_model(folder='./data/temp/coins/scale_0.2/', target_class='coin_1', model=model)"
   ]
  },
  {
   "cell_type": "code",
   "execution_count": 6,
   "id": "e9985823-9521-49ef-b0d8-61547cf70e23",
   "metadata": {},
   "outputs": [
    {
     "name": "stdout",
     "output_type": "stream",
     "text": [
      "Training existing model\n",
      "Initial target samples amount: 193; non target samples amount: 655; final amount: 1310\n",
      "Reused batch_size 16\n",
      "Training...\n",
      "Training finished successfully in 11 epochs\n"
     ]
    },
    {
     "name": "stderr",
     "output_type": "stream",
     "text": [
      "Registered model '._data_temp_coins_scale_0.2__coin_2' already exists. Creating a new version of this model...\n",
      "Created version '14' of model '._data_temp_coins_scale_0.2__coin_2'.\n"
     ]
    },
    {
     "name": "stdout",
     "output_type": "stream",
     "text": [
      "🏃 View run ._data_temp_coins_scale_0.2__coin_2 at: http://127.0.0.1:8080/#/experiments/482274532250461682/runs/dd593e1ab4394461bebdd99730ff2069\n",
      "🧪 View experiment at: http://127.0.0.1:8080/#/experiments/482274532250461682\n"
     ]
    }
   ],
   "source": [
    "model = trainer.train_model(folder='./data/temp/coins/scale_0.2/', target_class='coin_2', model=model)"
   ]
  },
  {
   "cell_type": "code",
   "execution_count": 7,
   "id": "81530b3f-40de-4466-a4e7-ee2d675a74eb",
   "metadata": {},
   "outputs": [
    {
     "name": "stdout",
     "output_type": "stream",
     "text": [
      "Training existing model\n",
      "Initial target samples amount: 190; non target samples amount: 658; final amount: 1316\n",
      "Reused batch_size 16\n",
      "Training...\n",
      "Training finished successfully in 3 epochs\n"
     ]
    },
    {
     "name": "stderr",
     "output_type": "stream",
     "text": [
      "Registered model '._data_temp_coins_scale_0.2__coin_3' already exists. Creating a new version of this model...\n",
      "Created version '14' of model '._data_temp_coins_scale_0.2__coin_3'.\n"
     ]
    },
    {
     "name": "stdout",
     "output_type": "stream",
     "text": [
      "🏃 View run ._data_temp_coins_scale_0.2__coin_3 at: http://127.0.0.1:8080/#/experiments/482274532250461682/runs/20d1860ddcfc4008afcd510b75a1f4b3\n",
      "🧪 View experiment at: http://127.0.0.1:8080/#/experiments/482274532250461682\n"
     ]
    }
   ],
   "source": [
    "model = trainer.train_model(folder='./data/temp/coins/scale_0.2/', target_class='coin_3', model=model)"
   ]
  },
  {
   "cell_type": "code",
   "execution_count": 8,
   "id": "2a0c4be5-ae21-423d-954f-6845cfc5bfeb",
   "metadata": {},
   "outputs": [],
   "source": [
    "#16-39-73-64\n",
    "#20-57-53-68\n",
    "#11-41-29-52\n",
    "#bs\n",
    "#11-43-35-"
   ]
  },
  {
   "cell_type": "markdown",
   "id": "6a32138c-3606-4d1d-8dbb-6b11d432aaee",
   "metadata": {},
   "source": [
    "#### Full size"
   ]
  },
  {
   "cell_type": "code",
   "execution_count": 9,
   "id": "c5f67526-98ac-4bf3-9b78-fd4df0bfead7",
   "metadata": {},
   "outputs": [
    {
     "name": "stdout",
     "output_type": "stream",
     "text": [
      "Initial target samples amount: 240; non target samples amount: 608; final amount: 1216\n",
      "Testing batch_size 2\n",
      "success\n",
      "Freemem: 13805551616\n",
      "Testing batch_size 3\n",
      "success\n",
      "Freemem: 12912164864\n",
      "Testing batch_size 16\n",
      "fail\n",
      "Freemem: 0\n",
      "Testing batch_size 9\n",
      "success\n",
      "Freemem: 7914651648\n",
      "Testing batch_size 12\n",
      "success\n",
      "Freemem: 5481955328\n",
      "Testing batch_size 13\n",
      "success\n",
      "Freemem: 4586471424\n",
      "Testing batch_size 14\n",
      "fail\n",
      "Freemem: 0\n",
      "Selected batch_size 13\n",
      "Training...\n",
      "Training finished successfully in 3 epochs\n"
     ]
    },
    {
     "name": "stderr",
     "output_type": "stream",
     "text": [
      "Registered model '._data_temp_coins_scale_1__assembly' already exists. Creating a new version of this model...\n",
      "Created version '3' of model '._data_temp_coins_scale_1__assembly'.\n"
     ]
    },
    {
     "name": "stdout",
     "output_type": "stream",
     "text": [
      "🏃 View run ._data_temp_coins_scale_1__assembly at: http://127.0.0.1:8080/#/experiments/482274532250461682/runs/103e3a90a7d0410c85f10ac622212c5a\n",
      "🧪 View experiment at: http://127.0.0.1:8080/#/experiments/482274532250461682\n"
     ]
    }
   ],
   "source": [
    "model = trainer.train_model(folder='./data/temp/coins/scale_1/', target_class='assembly')"
   ]
  },
  {
   "cell_type": "code",
   "execution_count": 10,
   "id": "90086bfa-92cc-4b9d-8837-bcaa68619e31",
   "metadata": {},
   "outputs": [
    {
     "name": "stdout",
     "output_type": "stream",
     "text": [
      "Training existing model\n",
      "Initial target samples amount: 225; non target samples amount: 623; final amount: 1246\n",
      "Reused batch_size 13\n",
      "Training...\n",
      "Training finished successfully in 6 epochs\n"
     ]
    },
    {
     "name": "stderr",
     "output_type": "stream",
     "text": [
      "Registered model '._data_temp_coins_scale_1__coin_1' already exists. Creating a new version of this model...\n",
      "Created version '3' of model '._data_temp_coins_scale_1__coin_1'.\n"
     ]
    },
    {
     "name": "stdout",
     "output_type": "stream",
     "text": [
      "🏃 View run ._data_temp_coins_scale_1__coin_1 at: http://127.0.0.1:8080/#/experiments/482274532250461682/runs/c8745dbe3010481e9e787d7b06dc6f1b\n",
      "🧪 View experiment at: http://127.0.0.1:8080/#/experiments/482274532250461682\n"
     ]
    }
   ],
   "source": [
    "model = trainer.train_model(folder='./data/temp/coins/scale_1/', target_class='coin_1', model=model)"
   ]
  },
  {
   "cell_type": "code",
   "execution_count": 11,
   "id": "d44dc65d-1a15-43b6-a862-c1cbdd889f88",
   "metadata": {},
   "outputs": [
    {
     "name": "stdout",
     "output_type": "stream",
     "text": [
      "Training existing model\n",
      "Initial target samples amount: 193; non target samples amount: 655; final amount: 1310\n",
      "Reused batch_size 13\n",
      "Training...\n",
      "Training finished successfully in 3 epochs\n"
     ]
    },
    {
     "name": "stderr",
     "output_type": "stream",
     "text": [
      "Registered model '._data_temp_coins_scale_1__coin_2' already exists. Creating a new version of this model...\n",
      "Created version '3' of model '._data_temp_coins_scale_1__coin_2'.\n"
     ]
    },
    {
     "name": "stdout",
     "output_type": "stream",
     "text": [
      "🏃 View run ._data_temp_coins_scale_1__coin_2 at: http://127.0.0.1:8080/#/experiments/482274532250461682/runs/1ec371082d394b67a7ef3355dc2dcd49\n",
      "🧪 View experiment at: http://127.0.0.1:8080/#/experiments/482274532250461682\n"
     ]
    }
   ],
   "source": [
    "model = trainer.train_model(folder='./data/temp/coins/scale_1/', target_class='coin_2', model=model)"
   ]
  },
  {
   "cell_type": "code",
   "execution_count": 12,
   "id": "d5a62609-e033-4d26-bed3-b93a3bbd37fe",
   "metadata": {},
   "outputs": [
    {
     "name": "stdout",
     "output_type": "stream",
     "text": [
      "Training existing model\n",
      "Initial target samples amount: 190; non target samples amount: 658; final amount: 1316\n",
      "Reused batch_size 13\n",
      "Training...\n",
      "Training finished successfully in 2 epochs\n"
     ]
    },
    {
     "name": "stderr",
     "output_type": "stream",
     "text": [
      "Registered model '._data_temp_coins_scale_1__coin_3' already exists. Creating a new version of this model...\n",
      "Created version '3' of model '._data_temp_coins_scale_1__coin_3'.\n"
     ]
    },
    {
     "name": "stdout",
     "output_type": "stream",
     "text": [
      "🏃 View run ._data_temp_coins_scale_1__coin_3 at: http://127.0.0.1:8080/#/experiments/482274532250461682/runs/f861da44eea6448eb1bf596df487603e\n",
      "🧪 View experiment at: http://127.0.0.1:8080/#/experiments/482274532250461682\n"
     ]
    }
   ],
   "source": [
    "model = trainer.train_model(folder='./data/temp/coins/scale_1/', target_class='coin_3', model=model)"
   ]
  },
  {
   "cell_type": "markdown",
   "id": "dd3f815d-8e9f-49ea-9d97-5719f7e8984e",
   "metadata": {},
   "source": [
    "### Screwdriver"
   ]
  },
  {
   "cell_type": "markdown",
   "id": "62b76467-e5b5-46a2-8ecb-e3b4e4bfa2ea",
   "metadata": {},
   "source": [
    "#### Selected size"
   ]
  },
  {
   "cell_type": "code",
   "execution_count": 4,
   "id": "a1235ddd-31e6-497c-8a5d-a2f73a0305de",
   "metadata": {},
   "outputs": [
    {
     "name": "stdout",
     "output_type": "stream",
     "text": [
      "Initial target samples amount: 1243; non target samples amount: 1423; final amount: 2846\n",
      "Testing batch_size 2\n",
      "success\n",
      "Freemem: 15390998528\n",
      "Testing batch_size 3\n",
      "success\n",
      "Freemem: 15311306752\n",
      "Testing batch_size 16\n",
      "success\n",
      "Freemem: 13920894976\n",
      "Selected batch_size 16\n",
      "Training...\n",
      "Training finished successfully in 3 epochs\n"
     ]
    },
    {
     "name": "stderr",
     "output_type": "stream",
     "text": [
      "Registered model '._data_temp_screwdriver_scale_0.35__assembly' already exists. Creating a new version of this model...\n",
      "Created version '3' of model '._data_temp_screwdriver_scale_0.35__assembly'.\n"
     ]
    },
    {
     "name": "stdout",
     "output_type": "stream",
     "text": [
      "🏃 View run ._data_temp_screwdriver_scale_0.35__assembly at: http://127.0.0.1:8080/#/experiments/482274532250461682/runs/5fc5e92d8cb846a2aa1d8cd26790a2af\n",
      "🧪 View experiment at: http://127.0.0.1:8080/#/experiments/482274532250461682\n"
     ]
    }
   ],
   "source": [
    "model = trainer.train_model(folder='./data/temp/screwdriver/scale_0.35/', target_class='assembly')"
   ]
  },
  {
   "cell_type": "code",
   "execution_count": 5,
   "id": "052e5382-a37b-4814-870b-139cb7263da0",
   "metadata": {},
   "outputs": [
    {
     "name": "stdout",
     "output_type": "stream",
     "text": [
      "Training existing model\n",
      "Initial target samples amount: 345; non target samples amount: 2321; final amount: 4642\n",
      "Reused batch_size 16\n",
      "Training...\n",
      "Training finished successfully in 1 epochs\n"
     ]
    },
    {
     "name": "stderr",
     "output_type": "stream",
     "text": [
      "Registered model '._data_temp_screwdriver_scale_0.35__bit' already exists. Creating a new version of this model...\n",
      "Created version '3' of model '._data_temp_screwdriver_scale_0.35__bit'.\n"
     ]
    },
    {
     "name": "stdout",
     "output_type": "stream",
     "text": [
      "🏃 View run ._data_temp_screwdriver_scale_0.35__bit at: http://127.0.0.1:8080/#/experiments/482274532250461682/runs/fc6839150b6640eaa61dd625b4fd7c1a\n",
      "🧪 View experiment at: http://127.0.0.1:8080/#/experiments/482274532250461682\n"
     ]
    }
   ],
   "source": [
    "model = trainer.train_model(folder='./data/temp/screwdriver/scale_0.35/', target_class='bit', model=model)"
   ]
  },
  {
   "cell_type": "code",
   "execution_count": 6,
   "id": "234f7703-47d7-4c50-adbb-3b5a0fd9684f",
   "metadata": {},
   "outputs": [
    {
     "name": "stdout",
     "output_type": "stream",
     "text": [
      "Training existing model\n",
      "Initial target samples amount: 319; non target samples amount: 2347; final amount: 4694\n",
      "Reused batch_size 16\n",
      "Training...\n",
      "Training finished successfully in 1 epochs\n",
      "🏃 View run ._data_temp_screwdriver_scale_0.35__holder at: http://127.0.0.1:8080/#/experiments/482274532250461682/runs/14b9f4186e2d49a196cc8e8a17cf3c51\n",
      "🧪 View experiment at: http://127.0.0.1:8080/#/experiments/482274532250461682\n"
     ]
    },
    {
     "name": "stderr",
     "output_type": "stream",
     "text": [
      "Registered model '._data_temp_screwdriver_scale_0.35__holder' already exists. Creating a new version of this model...\n",
      "Created version '3' of model '._data_temp_screwdriver_scale_0.35__holder'.\n"
     ]
    }
   ],
   "source": [
    "model = trainer.train_model(folder='./data/temp/screwdriver/scale_0.35/', target_class='holder', model=model)"
   ]
  },
  {
   "cell_type": "code",
   "execution_count": 7,
   "id": "2c7b5d84-d9e3-437c-9ec0-d59136d57aaf",
   "metadata": {},
   "outputs": [
    {
     "name": "stdout",
     "output_type": "stream",
     "text": [
      "Training existing model\n",
      "Initial target samples amount: 759; non target samples amount: 1907; final amount: 3814\n",
      "Reused batch_size 16\n",
      "Training...\n",
      "Training finished successfully in 1 epochs\n"
     ]
    },
    {
     "name": "stderr",
     "output_type": "stream",
     "text": [
      "Registered model '._data_temp_screwdriver_scale_0.35__screwdriver' already exists. Creating a new version of this model...\n",
      "Created version '3' of model '._data_temp_screwdriver_scale_0.35__screwdriver'.\n"
     ]
    },
    {
     "name": "stdout",
     "output_type": "stream",
     "text": [
      "🏃 View run ._data_temp_screwdriver_scale_0.35__screwdriver at: http://127.0.0.1:8080/#/experiments/482274532250461682/runs/2282f5d5535141ec815168cf257e1bdb\n",
      "🧪 View experiment at: http://127.0.0.1:8080/#/experiments/482274532250461682\n"
     ]
    }
   ],
   "source": [
    "model = trainer.train_model(folder='./data/temp/screwdriver/scale_0.35/', target_class='screwdriver', model=model)"
   ]
  },
  {
   "cell_type": "code",
   "execution_count": 8,
   "id": "127da091-8ee4-4811-bc6e-d0b82eb229c1",
   "metadata": {},
   "outputs": [],
   "source": [
    "#19-16-21-6\n",
    "#15-19-15-11\n",
    "#7-10-4-2"
   ]
  },
  {
   "cell_type": "markdown",
   "id": "cdf18bb6-54ac-4d80-9844-744d889a5ce0",
   "metadata": {},
   "source": [
    "#### Full size"
   ]
  },
  {
   "cell_type": "code",
   "execution_count": 9,
   "id": "5bb81baf-0bde-4df2-8c63-a884d0b5dd28",
   "metadata": {},
   "outputs": [
    {
     "name": "stdout",
     "output_type": "stream",
     "text": [
      "Initial target samples amount: 1243; non target samples amount: 1423; final amount: 2846\n",
      "Testing batch_size 2\n",
      "success\n",
      "Freemem: 13813940224\n",
      "Testing batch_size 3\n",
      "success\n",
      "Freemem: 12907970560\n",
      "Testing batch_size 16\n",
      "success\n",
      "Freemem: 2006372352\n",
      "Selected batch_size 16\n",
      "Training...\n",
      "Training finished successfully in 2 epochs\n"
     ]
    },
    {
     "name": "stderr",
     "output_type": "stream",
     "text": [
      "Registered model '._data_temp_screwdriver_scale_1__assembly' already exists. Creating a new version of this model...\n",
      "Created version '2' of model '._data_temp_screwdriver_scale_1__assembly'.\n"
     ]
    },
    {
     "name": "stdout",
     "output_type": "stream",
     "text": [
      "🏃 View run ._data_temp_screwdriver_scale_1__assembly at: http://127.0.0.1:8080/#/experiments/482274532250461682/runs/326ba7a05de444a5b4c93fb0bd384440\n",
      "🧪 View experiment at: http://127.0.0.1:8080/#/experiments/482274532250461682\n"
     ]
    }
   ],
   "source": [
    "model = trainer.train_model(folder='./data/temp/screwdriver/scale_1/', target_class='assembly')"
   ]
  },
  {
   "cell_type": "code",
   "execution_count": 10,
   "id": "09e68fff-6fce-4500-ab92-30fab48859e3",
   "metadata": {},
   "outputs": [
    {
     "name": "stdout",
     "output_type": "stream",
     "text": [
      "Training existing model\n",
      "Initial target samples amount: 345; non target samples amount: 2321; final amount: 4642\n",
      "Reused batch_size 16\n",
      "Training...\n",
      "Training finished successfully in 2 epochs\n",
      "🏃 View run ._data_temp_screwdriver_scale_1__bit at: http://127.0.0.1:8080/#/experiments/482274532250461682/runs/1e607bc74b084f5584def8a8dad34198\n",
      "🧪 View experiment at: http://127.0.0.1:8080/#/experiments/482274532250461682\n"
     ]
    },
    {
     "name": "stderr",
     "output_type": "stream",
     "text": [
      "Registered model '._data_temp_screwdriver_scale_1__bit' already exists. Creating a new version of this model...\n",
      "Created version '2' of model '._data_temp_screwdriver_scale_1__bit'.\n"
     ]
    }
   ],
   "source": [
    "model = trainer.train_model(folder='./data/temp/screwdriver/scale_1/', target_class='bit', model=model)"
   ]
  },
  {
   "cell_type": "code",
   "execution_count": 11,
   "id": "be196741-f33c-48c4-8452-f2814c7240ba",
   "metadata": {},
   "outputs": [
    {
     "name": "stdout",
     "output_type": "stream",
     "text": [
      "Training existing model\n",
      "Initial target samples amount: 319; non target samples amount: 2347; final amount: 4694\n",
      "Reused batch_size 16\n",
      "Training...\n",
      "Training finished successfully in 1 epochs\n"
     ]
    },
    {
     "name": "stderr",
     "output_type": "stream",
     "text": [
      "Registered model '._data_temp_screwdriver_scale_1__holder' already exists. Creating a new version of this model...\n",
      "Created version '2' of model '._data_temp_screwdriver_scale_1__holder'.\n"
     ]
    },
    {
     "name": "stdout",
     "output_type": "stream",
     "text": [
      "🏃 View run ._data_temp_screwdriver_scale_1__holder at: http://127.0.0.1:8080/#/experiments/482274532250461682/runs/f13e6cf9d0a546f1b0b8d604893c7a24\n",
      "🧪 View experiment at: http://127.0.0.1:8080/#/experiments/482274532250461682\n"
     ]
    }
   ],
   "source": [
    "model = trainer.train_model(folder='./data/temp/screwdriver/scale_1/', target_class='holder', model=model)"
   ]
  },
  {
   "cell_type": "code",
   "execution_count": 12,
   "id": "52fe22f7-39d0-40cf-ac00-05209db3087e",
   "metadata": {},
   "outputs": [
    {
     "name": "stdout",
     "output_type": "stream",
     "text": [
      "Training existing model\n",
      "Initial target samples amount: 759; non target samples amount: 1907; final amount: 3814\n",
      "Reused batch_size 16\n",
      "Training...\n",
      "Training finished successfully in 1 epochs\n"
     ]
    },
    {
     "name": "stderr",
     "output_type": "stream",
     "text": [
      "Registered model '._data_temp_screwdriver_scale_1__screwdriver' already exists. Creating a new version of this model...\n",
      "Created version '2' of model '._data_temp_screwdriver_scale_1__screwdriver'.\n"
     ]
    },
    {
     "name": "stdout",
     "output_type": "stream",
     "text": [
      "🏃 View run ._data_temp_screwdriver_scale_1__screwdriver at: http://127.0.0.1:8080/#/experiments/482274532250461682/runs/b8247914622840c38fb58206e9b2b7e9\n",
      "🧪 View experiment at: http://127.0.0.1:8080/#/experiments/482274532250461682\n"
     ]
    }
   ],
   "source": [
    "model = trainer.train_model(folder='./data/temp/screwdriver/scale_1/', target_class='screwdriver', model=model)"
   ]
  },
  {
   "cell_type": "markdown",
   "id": "93bceb14-7e5c-4de1-8df3-e414b172ce65",
   "metadata": {},
   "source": [
    "### Puzzle"
   ]
  },
  {
   "cell_type": "markdown",
   "id": "6a35a9a3-800a-4c9b-b49c-3cc87c585e33",
   "metadata": {},
   "source": [
    "#### Selected size"
   ]
  },
  {
   "cell_type": "code",
   "execution_count": 13,
   "id": "5d388d93-b034-4039-a41c-0e7e0569e140",
   "metadata": {},
   "outputs": [
    {
     "name": "stdout",
     "output_type": "stream",
     "text": [
      "Initial target samples amount: 332; non target samples amount: 645; final amount: 1290\n",
      "Testing batch_size 2\n",
      "success\n",
      "Freemem: 15523119104\n",
      "Testing batch_size 3\n",
      "success\n",
      "Freemem: 15487467520\n",
      "Testing batch_size 16\n",
      "success\n",
      "Freemem: 15288238080\n",
      "Selected batch_size 16\n",
      "Training...\n",
      "Training finished successfully in 4 epochs\n"
     ]
    },
    {
     "name": "stderr",
     "output_type": "stream",
     "text": [
      "Registered model '._data_temp_puzzle_scale_0.15__assembly' already exists. Creating a new version of this model...\n",
      "Created version '3' of model '._data_temp_puzzle_scale_0.15__assembly'.\n"
     ]
    },
    {
     "name": "stdout",
     "output_type": "stream",
     "text": [
      "🏃 View run ._data_temp_puzzle_scale_0.15__assembly at: http://127.0.0.1:8080/#/experiments/482274532250461682/runs/309d8f4f27cb4d5fa2550e232b531f16\n",
      "🧪 View experiment at: http://127.0.0.1:8080/#/experiments/482274532250461682\n"
     ]
    }
   ],
   "source": [
    "model = trainer.train_model(folder='./data/temp/puzzle/scale_0.15/', target_class='assembly')"
   ]
  },
  {
   "cell_type": "code",
   "execution_count": 14,
   "id": "807ffefb-6919-4dd9-96c1-888554d60512",
   "metadata": {},
   "outputs": [
    {
     "name": "stdout",
     "output_type": "stream",
     "text": [
      "Training existing model\n",
      "Initial target samples amount: 294; non target samples amount: 683; final amount: 1366\n",
      "Reused batch_size 16\n",
      "Training...\n",
      "Training finished successfully in 8 epochs\n"
     ]
    },
    {
     "name": "stderr",
     "output_type": "stream",
     "text": [
      "Registered model '._data_temp_puzzle_scale_0.15__segment_1' already exists. Creating a new version of this model...\n",
      "Created version '3' of model '._data_temp_puzzle_scale_0.15__segment_1'.\n"
     ]
    },
    {
     "name": "stdout",
     "output_type": "stream",
     "text": [
      "🏃 View run ._data_temp_puzzle_scale_0.15__segment_1 at: http://127.0.0.1:8080/#/experiments/482274532250461682/runs/ac158f33d79445ab995e5a5f95b2004b\n",
      "🧪 View experiment at: http://127.0.0.1:8080/#/experiments/482274532250461682\n"
     ]
    }
   ],
   "source": [
    "model = trainer.train_model(folder='./data/temp/puzzle/scale_0.15/', target_class='segment_1', model=model)"
   ]
  },
  {
   "cell_type": "code",
   "execution_count": 15,
   "id": "e68ac0a1-be61-4f5f-9feb-18d905685e27",
   "metadata": {},
   "outputs": [
    {
     "name": "stdout",
     "output_type": "stream",
     "text": [
      "Training existing model\n",
      "Initial target samples amount: 351; non target samples amount: 626; final amount: 1252\n",
      "Reused batch_size 16\n",
      "Training...\n",
      "Training finished successfully in 1 epochs\n"
     ]
    },
    {
     "name": "stderr",
     "output_type": "stream",
     "text": [
      "Registered model '._data_temp_puzzle_scale_0.15__segment_2' already exists. Creating a new version of this model...\n",
      "Created version '3' of model '._data_temp_puzzle_scale_0.15__segment_2'.\n"
     ]
    },
    {
     "name": "stdout",
     "output_type": "stream",
     "text": [
      "🏃 View run ._data_temp_puzzle_scale_0.15__segment_2 at: http://127.0.0.1:8080/#/experiments/482274532250461682/runs/4a5ce1bfe5bb49559a9e250e15d8f8a7\n",
      "🧪 View experiment at: http://127.0.0.1:8080/#/experiments/482274532250461682\n"
     ]
    }
   ],
   "source": [
    "model = trainer.train_model(folder='./data/temp/puzzle/scale_0.15/', target_class='segment_2', model=model)"
   ]
  },
  {
   "cell_type": "code",
   "execution_count": 16,
   "id": "cbb29752-e061-4df8-b1bb-1a27aec2850c",
   "metadata": {},
   "outputs": [],
   "source": [
    "#26-37-48\n",
    "#26-70-63\n",
    "#17-38-33"
   ]
  },
  {
   "cell_type": "markdown",
   "id": "f03f17b6-480d-49f3-862f-fbb4311226c4",
   "metadata": {},
   "source": [
    "#### Full size"
   ]
  },
  {
   "cell_type": "code",
   "execution_count": 17,
   "id": "230567a3-7b4f-42ab-8600-d5300a405c0a",
   "metadata": {},
   "outputs": [
    {
     "name": "stdout",
     "output_type": "stream",
     "text": [
      "Initial target samples amount: 332; non target samples amount: 645; final amount: 1290\n",
      "Testing batch_size 2\n",
      "success\n",
      "Freemem: 13797163008\n",
      "Testing batch_size 3\n",
      "success\n",
      "Freemem: 12912164864\n",
      "Testing batch_size 16\n",
      "success\n",
      "Freemem: 1929523200\n",
      "Selected batch_size 16\n",
      "Training...\n",
      "Training finished successfully in 2 epochs\n"
     ]
    },
    {
     "name": "stderr",
     "output_type": "stream",
     "text": [
      "Registered model '._data_temp_puzzle_scale_1__assembly' already exists. Creating a new version of this model...\n",
      "Created version '2' of model '._data_temp_puzzle_scale_1__assembly'.\n"
     ]
    },
    {
     "name": "stdout",
     "output_type": "stream",
     "text": [
      "🏃 View run ._data_temp_puzzle_scale_1__assembly at: http://127.0.0.1:8080/#/experiments/482274532250461682/runs/55530677668e4e0b8e3ecca73a14a420\n",
      "🧪 View experiment at: http://127.0.0.1:8080/#/experiments/482274532250461682\n"
     ]
    }
   ],
   "source": [
    "model = trainer.train_model(folder='./data/temp/puzzle/scale_1/', target_class='assembly')"
   ]
  },
  {
   "cell_type": "code",
   "execution_count": 18,
   "id": "47f45a7e-43d4-432d-9cca-d4dac13815a2",
   "metadata": {},
   "outputs": [
    {
     "name": "stdout",
     "output_type": "stream",
     "text": [
      "Training existing model\n",
      "Initial target samples amount: 294; non target samples amount: 683; final amount: 1366\n",
      "Reused batch_size 16\n",
      "Training...\n",
      "Training finished successfully in 1 epochs\n",
      "🏃 View run ._data_temp_puzzle_scale_1__segment_1 at: http://127.0.0.1:8080/#/experiments/482274532250461682/runs/1376cbb25cdd414c9b921eb8876ab107\n",
      "🧪 View experiment at: http://127.0.0.1:8080/#/experiments/482274532250461682\n"
     ]
    },
    {
     "name": "stderr",
     "output_type": "stream",
     "text": [
      "Registered model '._data_temp_puzzle_scale_1__segment_1' already exists. Creating a new version of this model...\n",
      "Created version '2' of model '._data_temp_puzzle_scale_1__segment_1'.\n"
     ]
    }
   ],
   "source": [
    "model = trainer.train_model(folder='./data/temp/puzzle/scale_1/', target_class='segment_1', model=model)"
   ]
  },
  {
   "cell_type": "code",
   "execution_count": 19,
   "id": "ef7650f0-2fbc-4770-9c03-4037569b0f2c",
   "metadata": {},
   "outputs": [
    {
     "name": "stdout",
     "output_type": "stream",
     "text": [
      "Training existing model\n",
      "Initial target samples amount: 351; non target samples amount: 626; final amount: 1252\n",
      "Reused batch_size 16\n",
      "Training...\n",
      "Training finished successfully in 2 epochs\n"
     ]
    },
    {
     "name": "stderr",
     "output_type": "stream",
     "text": [
      "Registered model '._data_temp_puzzle_scale_1__segment_2' already exists. Creating a new version of this model...\n",
      "Created version '2' of model '._data_temp_puzzle_scale_1__segment_2'.\n"
     ]
    },
    {
     "name": "stdout",
     "output_type": "stream",
     "text": [
      "🏃 View run ._data_temp_puzzle_scale_1__segment_2 at: http://127.0.0.1:8080/#/experiments/482274532250461682/runs/f4b54e471e1046ad84894ee19c3eb8b1\n",
      "🧪 View experiment at: http://127.0.0.1:8080/#/experiments/482274532250461682\n"
     ]
    }
   ],
   "source": [
    "model = trainer.train_model(folder='./data/temp/puzzle/scale_1/', target_class='segment_2', model=model)"
   ]
  },
  {
   "cell_type": "markdown",
   "id": "2b68711f-6d29-4c14-b8ea-5660a03c9e37",
   "metadata": {},
   "source": [
    "### Wheels 5 colors"
   ]
  },
  {
   "cell_type": "markdown",
   "id": "f3f59642-76b4-4be6-89b1-33d6605ae98c",
   "metadata": {},
   "source": [
    "#### Selected size"
   ]
  },
  {
   "cell_type": "code",
   "execution_count": 20,
   "id": "ebeb5cd2-a46f-4700-8b55-e10eead2a016",
   "metadata": {},
   "outputs": [
    {
     "name": "stdout",
     "output_type": "stream",
     "text": [
      "Initial target samples amount: 285; non target samples amount: 1735; final amount: 3470\n",
      "Testing batch_size 2\n",
      "success\n",
      "Freemem: 15479078912\n",
      "Testing batch_size 3\n",
      "success\n",
      "Freemem: 15453913088\n",
      "Testing batch_size 16\n",
      "success\n",
      "Freemem: 14986248192\n",
      "Selected batch_size 16\n",
      "Training...\n",
      "Training finished successfully in 1 epochs\n"
     ]
    },
    {
     "name": "stderr",
     "output_type": "stream",
     "text": [
      "Registered model '._data_temp_wheels_five_scale_0.2__assembly' already exists. Creating a new version of this model...\n",
      "Created version '3' of model '._data_temp_wheels_five_scale_0.2__assembly'.\n"
     ]
    },
    {
     "name": "stdout",
     "output_type": "stream",
     "text": [
      "🏃 View run ._data_temp_wheels_five_scale_0.2__assembly at: http://127.0.0.1:8080/#/experiments/482274532250461682/runs/5c998224da504aeba6c85c6bb4881c4e\n",
      "🧪 View experiment at: http://127.0.0.1:8080/#/experiments/482274532250461682\n"
     ]
    }
   ],
   "source": [
    "model = trainer.train_model(folder='./data/temp/wheels_five/scale_0.2/', target_class='assembly')"
   ]
  },
  {
   "cell_type": "code",
   "execution_count": 21,
   "id": "0ec7f098-924b-4ca3-b6c6-85674e8477ed",
   "metadata": {},
   "outputs": [
    {
     "name": "stdout",
     "output_type": "stream",
     "text": [
      "Training existing model\n",
      "Initial target samples amount: 238; non target samples amount: 1782; final amount: 3564\n",
      "Reused batch_size 16\n",
      "Training...\n",
      "Training finished successfully in 1 epochs\n"
     ]
    },
    {
     "name": "stderr",
     "output_type": "stream",
     "text": [
      "Registered model '._data_temp_wheels_five_scale_0.2__base' already exists. Creating a new version of this model...\n",
      "Created version '3' of model '._data_temp_wheels_five_scale_0.2__base'.\n"
     ]
    },
    {
     "name": "stdout",
     "output_type": "stream",
     "text": [
      "🏃 View run ._data_temp_wheels_five_scale_0.2__base at: http://127.0.0.1:8080/#/experiments/482274532250461682/runs/3efe66407bc04111ba7fc960a223faf5\n",
      "🧪 View experiment at: http://127.0.0.1:8080/#/experiments/482274532250461682\n"
     ]
    }
   ],
   "source": [
    "model = trainer.train_model(folder='./data/temp/wheels_five/scale_0.2/', target_class='base', model=model)"
   ]
  },
  {
   "cell_type": "code",
   "execution_count": 22,
   "id": "f0f58cf0-c89d-4126-b265-aaefd054cc4b",
   "metadata": {},
   "outputs": [
    {
     "name": "stdout",
     "output_type": "stream",
     "text": [
      "Training existing model\n",
      "Initial target samples amount: 223; non target samples amount: 1797; final amount: 3594\n",
      "Reused batch_size 16\n",
      "Training...\n",
      "Training finished successfully in 1 epochs\n"
     ]
    },
    {
     "name": "stderr",
     "output_type": "stream",
     "text": [
      "Registered model '._data_temp_wheels_five_scale_0.2__black' already exists. Creating a new version of this model...\n",
      "Created version '3' of model '._data_temp_wheels_five_scale_0.2__black'.\n"
     ]
    },
    {
     "name": "stdout",
     "output_type": "stream",
     "text": [
      "🏃 View run ._data_temp_wheels_five_scale_0.2__black at: http://127.0.0.1:8080/#/experiments/482274532250461682/runs/3dfc9d9806dd4c278d14917d841e5c6d\n",
      "🧪 View experiment at: http://127.0.0.1:8080/#/experiments/482274532250461682\n"
     ]
    }
   ],
   "source": [
    "model = trainer.train_model(folder='./data/temp/wheels_five/scale_0.2/', target_class='black', model=model)"
   ]
  },
  {
   "cell_type": "code",
   "execution_count": 23,
   "id": "a9fc8b1b-dddb-4aee-87d4-a261b0bc55f9",
   "metadata": {},
   "outputs": [
    {
     "name": "stdout",
     "output_type": "stream",
     "text": [
      "Training existing model\n",
      "Initial target samples amount: 255; non target samples amount: 1765; final amount: 3530\n",
      "Reused batch_size 16\n",
      "Training...\n",
      "Training finished successfully in 2 epochs\n"
     ]
    },
    {
     "name": "stderr",
     "output_type": "stream",
     "text": [
      "Registered model '._data_temp_wheels_five_scale_0.2__screw' already exists. Creating a new version of this model...\n",
      "Created version '3' of model '._data_temp_wheels_five_scale_0.2__screw'.\n"
     ]
    },
    {
     "name": "stdout",
     "output_type": "stream",
     "text": [
      "🏃 View run ._data_temp_wheels_five_scale_0.2__screw at: http://127.0.0.1:8080/#/experiments/482274532250461682/runs/538bab121a0b4f17a1addefd4ef52765\n",
      "🧪 View experiment at: http://127.0.0.1:8080/#/experiments/482274532250461682\n"
     ]
    }
   ],
   "source": [
    "model = trainer.train_model(folder='./data/temp/wheels_five/scale_0.2/', target_class='screw', model=model)"
   ]
  },
  {
   "cell_type": "code",
   "execution_count": 24,
   "id": "23d0b05c-e4b4-4d3c-8f2b-deb9a4b656ca",
   "metadata": {},
   "outputs": [
    {
     "name": "stdout",
     "output_type": "stream",
     "text": [
      "Training existing model\n",
      "Initial target samples amount: 272; non target samples amount: 1748; final amount: 3496\n",
      "Reused batch_size 16\n",
      "Training...\n",
      "Training finished successfully in 1 epochs\n"
     ]
    },
    {
     "name": "stderr",
     "output_type": "stream",
     "text": [
      "Registered model '._data_temp_wheels_five_scale_0.2__silver' already exists. Creating a new version of this model...\n",
      "Created version '3' of model '._data_temp_wheels_five_scale_0.2__silver'.\n"
     ]
    },
    {
     "name": "stdout",
     "output_type": "stream",
     "text": [
      "🏃 View run ._data_temp_wheels_five_scale_0.2__silver at: http://127.0.0.1:8080/#/experiments/482274532250461682/runs/ae3c4cad57614ab9a566d35e57de4a65\n",
      "🧪 View experiment at: http://127.0.0.1:8080/#/experiments/482274532250461682\n"
     ]
    }
   ],
   "source": [
    "model = trainer.train_model(folder='./data/temp/wheels_five/scale_0.2/', target_class='silver', model=model)"
   ]
  },
  {
   "cell_type": "code",
   "execution_count": 25,
   "id": "dd14762e-13e6-45a7-be9f-c3dfe0d987b7",
   "metadata": {},
   "outputs": [
    {
     "name": "stdout",
     "output_type": "stream",
     "text": [
      "Training existing model\n",
      "Initial target samples amount: 204; non target samples amount: 1816; final amount: 3632\n",
      "Reused batch_size 16\n",
      "Training...\n",
      "Training finished successfully in 1 epochs\n"
     ]
    },
    {
     "name": "stderr",
     "output_type": "stream",
     "text": [
      "Registered model '._data_temp_wheels_five_scale_0.2__white' already exists. Creating a new version of this model...\n",
      "Created version '3' of model '._data_temp_wheels_five_scale_0.2__white'.\n"
     ]
    },
    {
     "name": "stdout",
     "output_type": "stream",
     "text": [
      "🏃 View run ._data_temp_wheels_five_scale_0.2__white at: http://127.0.0.1:8080/#/experiments/482274532250461682/runs/64d7dde76027466594ed8ab86850cb5a\n",
      "🧪 View experiment at: http://127.0.0.1:8080/#/experiments/482274532250461682\n"
     ]
    }
   ],
   "source": [
    "model = trainer.train_model(folder='./data/temp/wheels_five/scale_0.2/', target_class='white', model=model)"
   ]
  },
  {
   "cell_type": "code",
   "execution_count": 26,
   "id": "4decefa0-cc4a-48ca-a513-45973ca0954c",
   "metadata": {},
   "outputs": [
    {
     "name": "stdout",
     "output_type": "stream",
     "text": [
      "Training existing model\n",
      "Initial target samples amount: 304; non target samples amount: 1716; final amount: 3432\n",
      "Reused batch_size 16\n",
      "Training...\n",
      "Training finished successfully in 1 epochs\n"
     ]
    },
    {
     "name": "stderr",
     "output_type": "stream",
     "text": [
      "Registered model '._data_temp_wheels_five_scale_0.2__yellow' already exists. Creating a new version of this model...\n",
      "Created version '3' of model '._data_temp_wheels_five_scale_0.2__yellow'.\n"
     ]
    },
    {
     "name": "stdout",
     "output_type": "stream",
     "text": [
      "🏃 View run ._data_temp_wheels_five_scale_0.2__yellow at: http://127.0.0.1:8080/#/experiments/482274532250461682/runs/025f6e2e1e064a7ba74b371d24af65c4\n",
      "🧪 View experiment at: http://127.0.0.1:8080/#/experiments/482274532250461682\n"
     ]
    }
   ],
   "source": [
    "model = trainer.train_model(folder='./data/temp/wheels_five/scale_0.2/', target_class='yellow', model=model)"
   ]
  },
  {
   "cell_type": "code",
   "execution_count": 27,
   "id": "42551f99",
   "metadata": {},
   "outputs": [
    {
     "name": "stdout",
     "output_type": "stream",
     "text": [
      "Training existing model\n",
      "Initial target samples amount: 239; non target samples amount: 1781; final amount: 3562\n",
      "Reused batch_size 16\n",
      "Training...\n",
      "Training finished successfully in 2 epochs\n"
     ]
    },
    {
     "name": "stderr",
     "output_type": "stream",
     "text": [
      "Registered model '._data_temp_wheels_five_scale_0.2__red' already exists. Creating a new version of this model...\n",
      "Created version '3' of model '._data_temp_wheels_five_scale_0.2__red'.\n"
     ]
    },
    {
     "name": "stdout",
     "output_type": "stream",
     "text": [
      "🏃 View run ._data_temp_wheels_five_scale_0.2__red at: http://127.0.0.1:8080/#/experiments/482274532250461682/runs/28e4bcb0cfc5460cbcb0565f6c1b63fc\n",
      "🧪 View experiment at: http://127.0.0.1:8080/#/experiments/482274532250461682\n"
     ]
    }
   ],
   "source": [
    "model = trainer.train_model(folder='./data/temp/wheels_five/scale_0.2/', target_class='red', model=model)"
   ]
  },
  {
   "cell_type": "code",
   "execution_count": 28,
   "id": "8497141f-0a7c-4b69-820c-dcb24d1a4105",
   "metadata": {},
   "outputs": [],
   "source": [
    "#12-16-18-11----------\n",
    "#12-8-12-18-21-23-8\n",
    "#4-5-4-4-6-5-4"
   ]
  },
  {
   "cell_type": "markdown",
   "id": "72671793-7ca5-432b-a983-daf914af4f46",
   "metadata": {},
   "source": [
    "#### Full size"
   ]
  },
  {
   "cell_type": "code",
   "execution_count": 29,
   "id": "c389a6d9-aa6d-4950-b7a0-4bad1f1ada6f",
   "metadata": {},
   "outputs": [
    {
     "name": "stdout",
     "output_type": "stream",
     "text": [
      "Initial target samples amount: 285; non target samples amount: 1735; final amount: 3470\n",
      "Testing batch_size 2\n",
      "success\n",
      "Freemem: 13801357312\n",
      "Testing batch_size 3\n",
      "success\n",
      "Freemem: 12912164864\n",
      "Testing batch_size 16\n",
      "success\n",
      "Freemem: 1944064000\n",
      "Selected batch_size 16\n",
      "Training...\n",
      "Training finished successfully in 2 epochs\n"
     ]
    },
    {
     "name": "stderr",
     "output_type": "stream",
     "text": [
      "Registered model '._data_temp_wheels_five_scale_1__assembly' already exists. Creating a new version of this model...\n",
      "Created version '2' of model '._data_temp_wheels_five_scale_1__assembly'.\n"
     ]
    },
    {
     "name": "stdout",
     "output_type": "stream",
     "text": [
      "🏃 View run ._data_temp_wheels_five_scale_1__assembly at: http://127.0.0.1:8080/#/experiments/482274532250461682/runs/25076b632c5c44fc988bbdc428a83d8b\n",
      "🧪 View experiment at: http://127.0.0.1:8080/#/experiments/482274532250461682\n"
     ]
    }
   ],
   "source": [
    "model = trainer.train_model(folder='./data/temp/wheels_five/scale_1/', target_class='assembly')"
   ]
  },
  {
   "cell_type": "code",
   "execution_count": 30,
   "id": "9ce1b2c6-abcd-45fb-b8a6-56f715ffcaa3",
   "metadata": {},
   "outputs": [
    {
     "name": "stdout",
     "output_type": "stream",
     "text": [
      "Training existing model\n",
      "Initial target samples amount: 238; non target samples amount: 1782; final amount: 3564\n",
      "Reused batch_size 16\n",
      "Training...\n",
      "Training finished successfully in 1 epochs\n"
     ]
    },
    {
     "name": "stderr",
     "output_type": "stream",
     "text": [
      "Registered model '._data_temp_wheels_five_scale_1__base' already exists. Creating a new version of this model...\n",
      "Created version '2' of model '._data_temp_wheels_five_scale_1__base'.\n"
     ]
    },
    {
     "name": "stdout",
     "output_type": "stream",
     "text": [
      "🏃 View run ._data_temp_wheels_five_scale_1__base at: http://127.0.0.1:8080/#/experiments/482274532250461682/runs/e649349856904e0cad5f00f762da5aba\n",
      "🧪 View experiment at: http://127.0.0.1:8080/#/experiments/482274532250461682\n"
     ]
    }
   ],
   "source": [
    "model = trainer.train_model(folder='./data/temp/wheels_five/scale_1/', target_class='base', model=model)"
   ]
  },
  {
   "cell_type": "code",
   "execution_count": 31,
   "id": "5b0ad1c1-fc1f-48e1-ba78-b2965e1b5206",
   "metadata": {},
   "outputs": [
    {
     "name": "stdout",
     "output_type": "stream",
     "text": [
      "Training existing model\n",
      "Initial target samples amount: 223; non target samples amount: 1797; final amount: 3594\n",
      "Reused batch_size 16\n",
      "Training...\n",
      "Training finished successfully in 1 epochs\n"
     ]
    },
    {
     "name": "stderr",
     "output_type": "stream",
     "text": [
      "Registered model '._data_temp_wheels_five_scale_1__black' already exists. Creating a new version of this model...\n",
      "Created version '2' of model '._data_temp_wheels_five_scale_1__black'.\n"
     ]
    },
    {
     "name": "stdout",
     "output_type": "stream",
     "text": [
      "🏃 View run ._data_temp_wheels_five_scale_1__black at: http://127.0.0.1:8080/#/experiments/482274532250461682/runs/05a3c23ece6f4ca1ae6af02eff676d5d\n",
      "🧪 View experiment at: http://127.0.0.1:8080/#/experiments/482274532250461682\n"
     ]
    }
   ],
   "source": [
    "model = trainer.train_model(folder='./data/temp/wheels_five/scale_1/', target_class='black', model=model)"
   ]
  },
  {
   "cell_type": "code",
   "execution_count": 32,
   "id": "b45940c2-2bba-4a44-b901-3ec219fde9e3",
   "metadata": {},
   "outputs": [
    {
     "name": "stdout",
     "output_type": "stream",
     "text": [
      "Training existing model\n",
      "Initial target samples amount: 255; non target samples amount: 1765; final amount: 3530\n",
      "Reused batch_size 16\n",
      "Training...\n",
      "Training finished successfully in 1 epochs\n"
     ]
    },
    {
     "name": "stderr",
     "output_type": "stream",
     "text": [
      "Registered model '._data_temp_wheels_five_scale_1__screw' already exists. Creating a new version of this model...\n",
      "Created version '2' of model '._data_temp_wheels_five_scale_1__screw'.\n"
     ]
    },
    {
     "name": "stdout",
     "output_type": "stream",
     "text": [
      "🏃 View run ._data_temp_wheels_five_scale_1__screw at: http://127.0.0.1:8080/#/experiments/482274532250461682/runs/e3a7b88aada34419a7a31e445b1a655e\n",
      "🧪 View experiment at: http://127.0.0.1:8080/#/experiments/482274532250461682\n"
     ]
    }
   ],
   "source": [
    "model = trainer.train_model(folder='./data/temp/wheels_five/scale_1/', target_class='screw', model=model)"
   ]
  },
  {
   "cell_type": "code",
   "execution_count": 33,
   "id": "f0d69346-8ce7-4d1e-8615-ff0f89798bf0",
   "metadata": {},
   "outputs": [
    {
     "name": "stdout",
     "output_type": "stream",
     "text": [
      "Training existing model\n",
      "Initial target samples amount: 272; non target samples amount: 1748; final amount: 3496\n",
      "Reused batch_size 16\n",
      "Training...\n",
      "Training finished successfully in 1 epochs\n",
      "🏃 View run ._data_temp_wheels_five_scale_1__silver at: http://127.0.0.1:8080/#/experiments/482274532250461682/runs/2c9cb9de23a349e19f49605a78ce4189\n",
      "🧪 View experiment at: http://127.0.0.1:8080/#/experiments/482274532250461682\n"
     ]
    },
    {
     "name": "stderr",
     "output_type": "stream",
     "text": [
      "Registered model '._data_temp_wheels_five_scale_1__silver' already exists. Creating a new version of this model...\n",
      "Created version '2' of model '._data_temp_wheels_five_scale_1__silver'.\n"
     ]
    }
   ],
   "source": [
    "model = trainer.train_model(folder='./data/temp/wheels_five/scale_1/', target_class='silver', model=model)"
   ]
  },
  {
   "cell_type": "code",
   "execution_count": 34,
   "id": "fdd28919-c297-45fe-8908-6419e4ecf90f",
   "metadata": {},
   "outputs": [
    {
     "name": "stdout",
     "output_type": "stream",
     "text": [
      "Training existing model\n",
      "Initial target samples amount: 204; non target samples amount: 1816; final amount: 3632\n",
      "Reused batch_size 16\n",
      "Training...\n",
      "Training finished successfully in 1 epochs\n"
     ]
    },
    {
     "name": "stderr",
     "output_type": "stream",
     "text": [
      "Registered model '._data_temp_wheels_five_scale_1__white' already exists. Creating a new version of this model...\n",
      "Created version '2' of model '._data_temp_wheels_five_scale_1__white'.\n"
     ]
    },
    {
     "name": "stdout",
     "output_type": "stream",
     "text": [
      "🏃 View run ._data_temp_wheels_five_scale_1__white at: http://127.0.0.1:8080/#/experiments/482274532250461682/runs/32cc1069546b42cd91213cf097af7824\n",
      "🧪 View experiment at: http://127.0.0.1:8080/#/experiments/482274532250461682\n"
     ]
    }
   ],
   "source": [
    "model = trainer.train_model(folder='./data/temp/wheels_five/scale_1/', target_class='white', model=model)"
   ]
  },
  {
   "cell_type": "code",
   "execution_count": 35,
   "id": "39af13ea-0bf3-4079-bd39-571470b47fa2",
   "metadata": {},
   "outputs": [
    {
     "name": "stdout",
     "output_type": "stream",
     "text": [
      "Training existing model\n",
      "Initial target samples amount: 304; non target samples amount: 1716; final amount: 3432\n",
      "Reused batch_size 16\n",
      "Training...\n",
      "Training finished successfully in 1 epochs\n"
     ]
    },
    {
     "name": "stderr",
     "output_type": "stream",
     "text": [
      "Registered model '._data_temp_wheels_five_scale_1__yellow' already exists. Creating a new version of this model...\n",
      "Created version '2' of model '._data_temp_wheels_five_scale_1__yellow'.\n"
     ]
    },
    {
     "name": "stdout",
     "output_type": "stream",
     "text": [
      "🏃 View run ._data_temp_wheels_five_scale_1__yellow at: http://127.0.0.1:8080/#/experiments/482274532250461682/runs/b4cd1efd962341e8a1c7c0f0752ad026\n",
      "🧪 View experiment at: http://127.0.0.1:8080/#/experiments/482274532250461682\n"
     ]
    }
   ],
   "source": [
    "model = trainer.train_model(folder='./data/temp/wheels_five/scale_1/', target_class='yellow', model=model)"
   ]
  },
  {
   "cell_type": "code",
   "execution_count": 36,
   "id": "70fe1ee8",
   "metadata": {},
   "outputs": [
    {
     "name": "stdout",
     "output_type": "stream",
     "text": [
      "Training existing model\n",
      "Initial target samples amount: 239; non target samples amount: 1781; final amount: 3562\n",
      "Reused batch_size 16\n",
      "Training...\n",
      "Training finished successfully in 1 epochs\n"
     ]
    },
    {
     "name": "stderr",
     "output_type": "stream",
     "text": [
      "Registered model '._data_temp_wheels_five_scale_1__red' already exists. Creating a new version of this model...\n",
      "Created version '2' of model '._data_temp_wheels_five_scale_1__red'.\n"
     ]
    },
    {
     "name": "stdout",
     "output_type": "stream",
     "text": [
      "🏃 View run ._data_temp_wheels_five_scale_1__red at: http://127.0.0.1:8080/#/experiments/482274532250461682/runs/bc7d7fd374f64203bb3ebca9dd5d9245\n",
      "🧪 View experiment at: http://127.0.0.1:8080/#/experiments/482274532250461682\n"
     ]
    }
   ],
   "source": [
    "model = trainer.train_model(folder='./data/temp/wheels_five/scale_1/', target_class='red', model=model)"
   ]
  },
  {
   "cell_type": "markdown",
   "id": "5a7ab766-e4fd-49e3-bc40-24569da2eb8b",
   "metadata": {},
   "source": [
    "### Wheels three colors"
   ]
  },
  {
   "cell_type": "markdown",
   "id": "d2456249-0fe5-4fef-8765-22634d1881c1",
   "metadata": {},
   "source": [
    "#### Selected size"
   ]
  },
  {
   "cell_type": "code",
   "execution_count": 37,
   "id": "3f58e578-03b8-4539-9c1d-9303639d28ff",
   "metadata": {},
   "outputs": [
    {
     "name": "stdout",
     "output_type": "stream",
     "text": [
      "Initial target samples amount: 256; non target samples amount: 1024; final amount: 2048\n",
      "Testing batch_size 2\n",
      "success\n",
      "Freemem: 15518924800\n",
      "Testing batch_size 3\n",
      "success\n",
      "Freemem: 15485370368\n",
      "Testing batch_size 16\n",
      "success\n",
      "Freemem: 15263072256\n",
      "Selected batch_size 16\n",
      "Training...\n",
      "Training finished successfully in 1 epochs\n"
     ]
    },
    {
     "name": "stderr",
     "output_type": "stream",
     "text": [
      "Registered model '._data_temp_wheels_three_scale_0.15__assembly' already exists. Creating a new version of this model...\n",
      "Created version '3' of model '._data_temp_wheels_three_scale_0.15__assembly'.\n"
     ]
    },
    {
     "name": "stdout",
     "output_type": "stream",
     "text": [
      "🏃 View run ._data_temp_wheels_three_scale_0.15__assembly at: http://127.0.0.1:8080/#/experiments/482274532250461682/runs/67de5d82a2c0448aa5b586ad52dd9975\n",
      "🧪 View experiment at: http://127.0.0.1:8080/#/experiments/482274532250461682\n"
     ]
    }
   ],
   "source": [
    "model = trainer.train_model(folder='./data/temp/wheels_three/scale_0.15/', target_class='assembly')"
   ]
  },
  {
   "cell_type": "code",
   "execution_count": 38,
   "id": "052fe2b0-f052-4625-8b30-f9185d43411a",
   "metadata": {},
   "outputs": [
    {
     "name": "stdout",
     "output_type": "stream",
     "text": [
      "Training existing model\n",
      "Initial target samples amount: 237; non target samples amount: 1043; final amount: 2086\n",
      "Reused batch_size 16\n",
      "Training...\n",
      "Training finished successfully in 1 epochs\n"
     ]
    },
    {
     "name": "stderr",
     "output_type": "stream",
     "text": [
      "Registered model '._data_temp_wheels_three_scale_0.15__base' already exists. Creating a new version of this model...\n",
      "Created version '3' of model '._data_temp_wheels_three_scale_0.15__base'.\n"
     ]
    },
    {
     "name": "stdout",
     "output_type": "stream",
     "text": [
      "🏃 View run ._data_temp_wheels_three_scale_0.15__base at: http://127.0.0.1:8080/#/experiments/482274532250461682/runs/3b2d12ab0fc94cbc8159c3fad13e39f4\n",
      "🧪 View experiment at: http://127.0.0.1:8080/#/experiments/482274532250461682\n"
     ]
    }
   ],
   "source": [
    "model = trainer.train_model(folder='./data/temp/wheels_three/scale_0.15/', target_class='base', model=model)"
   ]
  },
  {
   "cell_type": "code",
   "execution_count": 39,
   "id": "b770e3ae-1445-4c95-8907-55bc4cca8d89",
   "metadata": {},
   "outputs": [
    {
     "name": "stdout",
     "output_type": "stream",
     "text": [
      "Training existing model\n",
      "Initial target samples amount: 229; non target samples amount: 1051; final amount: 2102\n",
      "Reused batch_size 16\n",
      "Training...\n",
      "Training finished successfully in 1 epochs\n"
     ]
    },
    {
     "name": "stderr",
     "output_type": "stream",
     "text": [
      "Registered model '._data_temp_wheels_three_scale_0.15__gray' already exists. Creating a new version of this model...\n",
      "Created version '6' of model '._data_temp_wheels_three_scale_0.15__gray'.\n"
     ]
    },
    {
     "name": "stdout",
     "output_type": "stream",
     "text": [
      "🏃 View run ._data_temp_wheels_three_scale_0.15__gray at: http://127.0.0.1:8080/#/experiments/482274532250461682/runs/ee5f4772d801414f8660df6b16ad72a9\n",
      "🧪 View experiment at: http://127.0.0.1:8080/#/experiments/482274532250461682\n"
     ]
    }
   ],
   "source": [
    "model = trainer.train_model(folder='./data/temp/wheels_three/scale_0.15/', target_class='gray', model=model)"
   ]
  },
  {
   "cell_type": "code",
   "execution_count": 40,
   "id": "15b52864-2747-4b68-91bc-214fff25e240",
   "metadata": {},
   "outputs": [
    {
     "name": "stdout",
     "output_type": "stream",
     "text": [
      "Training existing model\n",
      "Initial target samples amount: 255; non target samples amount: 1025; final amount: 2050\n",
      "Reused batch_size 16\n",
      "Training...\n",
      "Training finished successfully in 1 epochs\n"
     ]
    },
    {
     "name": "stderr",
     "output_type": "stream",
     "text": [
      "Registered model '._data_temp_wheels_three_scale_0.15__screw' already exists. Creating a new version of this model...\n",
      "Created version '8' of model '._data_temp_wheels_three_scale_0.15__screw'.\n"
     ]
    },
    {
     "name": "stdout",
     "output_type": "stream",
     "text": [
      "🏃 View run ._data_temp_wheels_three_scale_0.15__screw at: http://127.0.0.1:8080/#/experiments/482274532250461682/runs/2f11ce13b36a4b1687b7a938a7946945\n",
      "🧪 View experiment at: http://127.0.0.1:8080/#/experiments/482274532250461682\n"
     ]
    }
   ],
   "source": [
    "model = trainer.train_model(folder='./data/temp/wheels_three/scale_0.15/', target_class='screw', model=model)"
   ]
  },
  {
   "cell_type": "code",
   "execution_count": null,
   "id": "82794ce0",
   "metadata": {},
   "outputs": [
    {
     "data": {
      "image/png": "[encoded data removed]",
      "text/plain": [
       "<Figure size 640x480 with 1 Axes>"
      ]
     },
     "metadata": {},
     "output_type": "display_data"
    }
   ],
   "source": [
    "from src.d02_utils import Utils\n",
    "import torch\n",
    "import torchvision.transforms.v2  as transforms\n",
    "\n",
    "normalize_arg = [0.5]*3\n",
    "train_transforms = transforms.Compose(\n",
    "            [\n",
    "                transforms.ToImage(),\n",
    "                transforms.ToDtype(torch.float32, scale=True),\n",
    "                #transforms.ColorJitter(brightness=(0.8, 1.2)),\n",
    "                #transforms.Normalize(normalize_arg, normalize_arg),\n",
    "                #transforms.RandomRotation(degrees=25),  # type: ignore\n",
    "                #transforms.RandomPerspective(distortion_scale=0.2),\n",
    "            ]\n",
    "        )\n",
    "\n",
    "Utils.show_transformed_image(r\"C:\\Users\\dfskl\\Jupyter notebooks\\kaggle\\Assembly-Inspector\\prototyping\\data\\temp\\wheels_three\\scale_0.15\\yellow\\0.jpg\", train_transforms)"
   ]
  },
  {
   "cell_type": "code",
   "execution_count": 41,
   "id": "abc2e4cf",
   "metadata": {},
   "outputs": [
    {
     "name": "stdout",
     "output_type": "stream",
     "text": [
      "(3, 162, 288)\n"
     ]
    },
    {
     "data": {
      "image/png": "[encoded data removed]",
      "text/plain": [
       "<Figure size 640x480 with 1 Axes>"
      ]
     },
     "metadata": {},
     "output_type": "display_data"
    }
   ],
   "source": [
    "import cv2\n",
    "from IPython.display import display\n",
    "import torchvision.transforms.v2 as transforms\n",
    "import torchvision.transforms.v2 as transform\n",
    "import matplotlib.pyplot as plt\n",
    "from src.d02_utils import Utils\n",
    "from src.d02_binary_model import Trainer\n",
    "import torch\n",
    "\n",
    "\n",
    "img_shape = Trainer.get_img_shape(r\".\\data\\temp\\wheels_three\\scale_0.15\\assembly\")\n",
    "print(img_shape)\n",
    "normalize_arg = [0.5]*3\n",
    "\n",
    "train_transforms = transforms.Compose(\n",
    "            [\n",
    "                transforms.ToImage(),\n",
    "                transforms.ToDtype(torch.float32, scale=True),\n",
    "                transforms.ColorJitter(brightness=(0.8, 1.2)),\n",
    "                transforms.Normalize(normalize_arg, normalize_arg),\n",
    "                transforms.RandomRotation(degrees=25, interpolation=transforms.InterpolationMode.BILINEAR),  # type: ignore\n",
    "                transforms.RandomPerspective(distortion_scale=0.2),\n",
    "                transforms.RandomCrop(size=(img_shape[1]*2, img_shape[2]*2), padding=(img_shape[2], img_shape[1]))\n",
    "            ]\n",
    "        )\n",
    "\n",
    "\n",
    "\n",
    "\n",
    "invTrans = transforms.Compose([ transforms.Normalize(mean = [ 0., 0., 0. ],\n",
    "                                                     std = [ 1/0.5, 1/0.5, 1/0.5 ]),\n",
    "                                transforms.Normalize(mean = [ -0.5, -0.5, -0.5 ],\n",
    "                                                     std = [ 1., 1., 1. ]),\n",
    "                                transforms.ToPILImage()\n",
    "                               ])\n",
    "\n",
    "path =r\"C:\\Users\\dfskl\\Jupyter notebooks\\kaggle\\Assembly-Inspector\\prototyping\\data\\temp\\wheels_three\\scale_0.15\\yellow\\0.jpg\"\n",
    "\n",
    "Utils.show_transformed_image(path, train_transforms, invTrans)"
   ]
  },
  {
   "cell_type": "code",
   "execution_count": 42,
   "id": "a42215ad-c814-4545-b350-18c9622a260b",
   "metadata": {},
   "outputs": [
    {
     "name": "stdout",
     "output_type": "stream",
     "text": [
      "Training existing model\n",
      "Initial target samples amount: 303; non target samples amount: 977; final amount: 1954\n",
      "Reused batch_size 16\n",
      "Training...\n",
      "Training finished successfully in 1 epochs\n"
     ]
    },
    {
     "name": "stderr",
     "output_type": "stream",
     "text": [
      "Registered model '._data_temp_wheels_three_scale_0.15__yellow' already exists. Creating a new version of this model...\n",
      "Created version '3' of model '._data_temp_wheels_three_scale_0.15__yellow'.\n"
     ]
    },
    {
     "name": "stdout",
     "output_type": "stream",
     "text": [
      "🏃 View run ._data_temp_wheels_three_scale_0.15__yellow at: http://127.0.0.1:8080/#/experiments/482274532250461682/runs/ab6d3f136aed4aed9a062ac43002dac8\n",
      "🧪 View experiment at: http://127.0.0.1:8080/#/experiments/482274532250461682\n"
     ]
    }
   ],
   "source": [
    "model = trainer.train_model(folder='./data/temp/wheels_three/scale_0.15/', target_class='yellow', model=model)"
   ]
  },
  {
   "cell_type": "code",
   "execution_count": 43,
   "id": "3b0a45a3-0ffa-4c9c-b469-a1df3d527373",
   "metadata": {},
   "outputs": [],
   "source": [
    "#22-23-20-28-20\n",
    "#11-15-13-14-16"
   ]
  },
  {
   "cell_type": "markdown",
   "id": "26ade68e-32bf-4160-8c8a-b142b8e274c9",
   "metadata": {},
   "source": [
    "#### Full size"
   ]
  },
  {
   "cell_type": "code",
   "execution_count": 44,
   "id": "fc91e293-13af-431d-aa0b-8fb5253859c1",
   "metadata": {},
   "outputs": [
    {
     "name": "stdout",
     "output_type": "stream",
     "text": [
      "Initial target samples amount: 256; non target samples amount: 1024; final amount: 2048\n",
      "Testing batch_size 2\n",
      "success\n",
      "Freemem: 13797163008\n",
      "Testing batch_size 3\n",
      "success\n",
      "Freemem: 12912164864\n",
      "Testing batch_size 16\n",
      "success\n",
      "Freemem: 1883901952\n",
      "Selected batch_size 16\n",
      "Training...\n",
      "Training finished successfully in 3 epochs\n"
     ]
    },
    {
     "name": "stderr",
     "output_type": "stream",
     "text": [
      "Registered model '._data_temp_wheels_three_scale_1__assembly' already exists. Creating a new version of this model...\n",
      "Created version '2' of model '._data_temp_wheels_three_scale_1__assembly'.\n"
     ]
    },
    {
     "name": "stdout",
     "output_type": "stream",
     "text": [
      "🏃 View run ._data_temp_wheels_three_scale_1__assembly at: http://127.0.0.1:8080/#/experiments/482274532250461682/runs/58198eaa2b034534a1e53991fd6bbce5\n",
      "🧪 View experiment at: http://127.0.0.1:8080/#/experiments/482274532250461682\n"
     ]
    }
   ],
   "source": [
    "model = trainer.train_model(folder='./data/temp/wheels_three/scale_1/', target_class='assembly')"
   ]
  },
  {
   "cell_type": "code",
   "execution_count": 45,
   "id": "733e3b2e-984d-4b7e-aa8d-afa61ebf3460",
   "metadata": {},
   "outputs": [
    {
     "name": "stdout",
     "output_type": "stream",
     "text": [
      "Training existing model\n",
      "Initial target samples amount: 237; non target samples amount: 1043; final amount: 2086\n",
      "Reused batch_size 16\n",
      "Training...\n",
      "Training finished successfully in 1 epochs\n"
     ]
    },
    {
     "name": "stderr",
     "output_type": "stream",
     "text": [
      "Registered model '._data_temp_wheels_three_scale_1__base' already exists. Creating a new version of this model...\n",
      "Created version '2' of model '._data_temp_wheels_three_scale_1__base'.\n"
     ]
    },
    {
     "name": "stdout",
     "output_type": "stream",
     "text": [
      "🏃 View run ._data_temp_wheels_three_scale_1__base at: http://127.0.0.1:8080/#/experiments/482274532250461682/runs/8ed6ae31d7684d48bf1cf2ce51143141\n",
      "🧪 View experiment at: http://127.0.0.1:8080/#/experiments/482274532250461682\n"
     ]
    }
   ],
   "source": [
    "model = trainer.train_model(folder='./data/temp/wheels_three/scale_1/', target_class='base', model=model)"
   ]
  },
  {
   "cell_type": "code",
   "execution_count": 46,
   "id": "b12dfa9a-fcbc-4f9f-9068-a95dddd5699c",
   "metadata": {},
   "outputs": [
    {
     "name": "stdout",
     "output_type": "stream",
     "text": [
      "Training existing model\n",
      "Initial target samples amount: 229; non target samples amount: 1051; final amount: 2102\n",
      "Reused batch_size 16\n",
      "Training...\n",
      "Training finished successfully in 1 epochs\n"
     ]
    },
    {
     "name": "stderr",
     "output_type": "stream",
     "text": [
      "Registered model '._data_temp_wheels_three_scale_1__gray' already exists. Creating a new version of this model...\n",
      "Created version '2' of model '._data_temp_wheels_three_scale_1__gray'.\n"
     ]
    },
    {
     "name": "stdout",
     "output_type": "stream",
     "text": [
      "🏃 View run ._data_temp_wheels_three_scale_1__gray at: http://127.0.0.1:8080/#/experiments/482274532250461682/runs/c946f547108d4e75bdfe405f4ee9b63c\n",
      "🧪 View experiment at: http://127.0.0.1:8080/#/experiments/482274532250461682\n"
     ]
    }
   ],
   "source": [
    "model = trainer.train_model(folder='./data/temp/wheels_three/scale_1/', target_class='gray', model=model)"
   ]
  },
  {
   "cell_type": "code",
   "execution_count": 47,
   "id": "c2a2ab1f-c8ec-4727-a081-79b6693fe536",
   "metadata": {},
   "outputs": [
    {
     "name": "stdout",
     "output_type": "stream",
     "text": [
      "Training existing model\n",
      "Initial target samples amount: 255; non target samples amount: 1025; final amount: 2050\n",
      "Reused batch_size 16\n",
      "Training...\n",
      "Training finished successfully in 2 epochs\n"
     ]
    },
    {
     "name": "stderr",
     "output_type": "stream",
     "text": [
      "Registered model '._data_temp_wheels_three_scale_1__screw' already exists. Creating a new version of this model...\n",
      "Created version '2' of model '._data_temp_wheels_three_scale_1__screw'.\n"
     ]
    },
    {
     "name": "stdout",
     "output_type": "stream",
     "text": [
      "🏃 View run ._data_temp_wheels_three_scale_1__screw at: http://127.0.0.1:8080/#/experiments/482274532250461682/runs/3141d4f94d6c43c9bf63c3dc9bf91ad0\n",
      "🧪 View experiment at: http://127.0.0.1:8080/#/experiments/482274532250461682\n"
     ]
    }
   ],
   "source": [
    "model = trainer.train_model(folder='./data/temp/wheels_three/scale_1/', target_class='screw', model=model)"
   ]
  },
  {
   "cell_type": "code",
   "execution_count": 48,
   "id": "d1fbe029-d42d-4601-acc9-0b800419076b",
   "metadata": {},
   "outputs": [
    {
     "name": "stdout",
     "output_type": "stream",
     "text": [
      "Training existing model\n",
      "Initial target samples amount: 303; non target samples amount: 977; final amount: 1954\n",
      "Reused batch_size 16\n",
      "Training...\n",
      "Training finished successfully in 1 epochs\n"
     ]
    },
    {
     "name": "stderr",
     "output_type": "stream",
     "text": [
      "Registered model '._data_temp_wheels_three_scale_1__yellow' already exists. Creating a new version of this model...\n",
      "Created version '2' of model '._data_temp_wheels_three_scale_1__yellow'.\n"
     ]
    },
    {
     "name": "stdout",
     "output_type": "stream",
     "text": [
      "🏃 View run ._data_temp_wheels_three_scale_1__yellow at: http://127.0.0.1:8080/#/experiments/482274532250461682/runs/0a8395137e9a49cd89b7a953d9b75aff\n",
      "🧪 View experiment at: http://127.0.0.1:8080/#/experiments/482274532250461682\n"
     ]
    }
   ],
   "source": [
    "model = trainer.train_model(folder='./data/temp/wheels_three/scale_1/', target_class='yellow', model=model)"
   ]
  },
  {
   "cell_type": "markdown",
   "id": "0a0ccc85-f12f-47c3-848d-0ecab6407726",
   "metadata": {},
   "source": [
    "### Wheels two colors"
   ]
  },
  {
   "cell_type": "markdown",
   "id": "ef36adf9-ea1e-4a00-a78a-27bca18c88bd",
   "metadata": {},
   "source": [
    "#### Selected size"
   ]
  },
  {
   "cell_type": "code",
   "execution_count": 49,
   "id": "f36574a3-388f-4850-a578-88aa0c357412",
   "metadata": {},
   "outputs": [
    {
     "name": "stdout",
     "output_type": "stream",
     "text": [
      "Initial target samples amount: 249; non target samples amount: 1058; final amount: 2116\n",
      "Testing batch_size 2\n",
      "success\n",
      "Freemem: 15512633344\n",
      "Testing batch_size 3\n",
      "success\n",
      "Freemem: 15476981760\n",
      "Testing batch_size 16\n",
      "success\n",
      "Freemem: 15181283328\n",
      "Selected batch_size 16\n",
      "Training...\n",
      "Training finished successfully in 1 epochs\n"
     ]
    },
    {
     "name": "stderr",
     "output_type": "stream",
     "text": [
      "Registered model '._data_temp_wheels_two_scale_0.17__assembly' already exists. Creating a new version of this model...\n",
      "Created version '3' of model '._data_temp_wheels_two_scale_0.17__assembly'.\n"
     ]
    },
    {
     "name": "stdout",
     "output_type": "stream",
     "text": [
      "🏃 View run ._data_temp_wheels_two_scale_0.17__assembly at: http://127.0.0.1:8080/#/experiments/482274532250461682/runs/41a06fadf3ea41339560be86b4ae3d36\n",
      "🧪 View experiment at: http://127.0.0.1:8080/#/experiments/482274532250461682\n"
     ]
    }
   ],
   "source": [
    "model = trainer.train_model(folder='./data/temp/wheels_two/scale_0.17/', target_class='assembly')"
   ]
  },
  {
   "cell_type": "code",
   "execution_count": 50,
   "id": "51dd16f2-830e-4a02-a945-71bb1d4eb966",
   "metadata": {},
   "outputs": [
    {
     "name": "stdout",
     "output_type": "stream",
     "text": [
      "Training existing model\n",
      "Initial target samples amount: 238; non target samples amount: 1069; final amount: 2138\n",
      "Reused batch_size 16\n",
      "Training...\n",
      "Training finished successfully in 1 epochs\n"
     ]
    },
    {
     "name": "stderr",
     "output_type": "stream",
     "text": [
      "Registered model '._data_temp_wheels_two_scale_0.17__base' already exists. Creating a new version of this model...\n",
      "Created version '3' of model '._data_temp_wheels_two_scale_0.17__base'.\n"
     ]
    },
    {
     "name": "stdout",
     "output_type": "stream",
     "text": [
      "🏃 View run ._data_temp_wheels_two_scale_0.17__base at: http://127.0.0.1:8080/#/experiments/482274532250461682/runs/e14d82c148014c8ba3f2d67b7b23d0a9\n",
      "🧪 View experiment at: http://127.0.0.1:8080/#/experiments/482274532250461682\n"
     ]
    }
   ],
   "source": [
    "model = trainer.train_model(folder='./data/temp/wheels_two/scale_0.17/', target_class='base', model=model)"
   ]
  },
  {
   "cell_type": "code",
   "execution_count": 51,
   "id": "becac0f6-2a81-4d0b-b015-9a842b65c5be",
   "metadata": {},
   "outputs": [
    {
     "name": "stdout",
     "output_type": "stream",
     "text": [
      "Training existing model\n",
      "Initial target samples amount: 255; non target samples amount: 1052; final amount: 2104\n",
      "Reused batch_size 16\n",
      "Training...\n",
      "Training finished successfully in 1 epochs\n"
     ]
    },
    {
     "name": "stderr",
     "output_type": "stream",
     "text": [
      "Registered model '._data_temp_wheels_two_scale_0.17__screw' already exists. Creating a new version of this model...\n",
      "Created version '3' of model '._data_temp_wheels_two_scale_0.17__screw'.\n"
     ]
    },
    {
     "name": "stdout",
     "output_type": "stream",
     "text": [
      "🏃 View run ._data_temp_wheels_two_scale_0.17__screw at: http://127.0.0.1:8080/#/experiments/482274532250461682/runs/8fe0358ad5884165803eb0d5e74de26e\n",
      "🧪 View experiment at: http://127.0.0.1:8080/#/experiments/482274532250461682\n"
     ]
    }
   ],
   "source": [
    "model = trainer.train_model(folder='./data/temp/wheels_two/scale_0.17/', target_class='screw', model=model)"
   ]
  },
  {
   "cell_type": "code",
   "execution_count": 52,
   "id": "8f8b3092-9fe6-43fc-850d-0859fbcd1f45",
   "metadata": {},
   "outputs": [
    {
     "name": "stdout",
     "output_type": "stream",
     "text": [
      "Training existing model\n",
      "Initial target samples amount: 303; non target samples amount: 1004; final amount: 2008\n",
      "Reused batch_size 16\n",
      "Training...\n",
      "Training finished successfully in 3 epochs\n"
     ]
    },
    {
     "name": "stderr",
     "output_type": "stream",
     "text": [
      "Registered model '._data_temp_wheels_two_scale_0.17__yellow' already exists. Creating a new version of this model...\n",
      "Created version '3' of model '._data_temp_wheels_two_scale_0.17__yellow'.\n"
     ]
    },
    {
     "name": "stdout",
     "output_type": "stream",
     "text": [
      "🏃 View run ._data_temp_wheels_two_scale_0.17__yellow at: http://127.0.0.1:8080/#/experiments/482274532250461682/runs/87285b5e23d144ca8c6618ab690e7b44\n",
      "🧪 View experiment at: http://127.0.0.1:8080/#/experiments/482274532250461682\n"
     ]
    }
   ],
   "source": [
    "model = trainer.train_model(folder='./data/temp/wheels_two/scale_0.17/', target_class='yellow', model=model)"
   ]
  },
  {
   "cell_type": "code",
   "execution_count": 53,
   "id": "27b2bf90-9006-4ede-b29b-273b90a52525",
   "metadata": {},
   "outputs": [
    {
     "name": "stdout",
     "output_type": "stream",
     "text": [
      "Training existing model\n",
      "Initial target samples amount: 262; non target samples amount: 1045; final amount: 2090\n",
      "Reused batch_size 16\n",
      "Training...\n",
      "Training finished successfully in 1 epochs\n"
     ]
    },
    {
     "name": "stderr",
     "output_type": "stream",
     "text": [
      "Registered model '._data_temp_wheels_two_scale_0.17__yellow_marked' already exists. Creating a new version of this model...\n",
      "Created version '3' of model '._data_temp_wheels_two_scale_0.17__yellow_marked'.\n"
     ]
    },
    {
     "name": "stdout",
     "output_type": "stream",
     "text": [
      "🏃 View run ._data_temp_wheels_two_scale_0.17__yellow_marked at: http://127.0.0.1:8080/#/experiments/482274532250461682/runs/50fc3c84298041fb999a2880cc624874\n",
      "🧪 View experiment at: http://127.0.0.1:8080/#/experiments/482274532250461682\n"
     ]
    }
   ],
   "source": [
    "model = trainer.train_model(folder='./data/temp/wheels_two/scale_0.17/', target_class='yellow_marked', model=model)"
   ]
  },
  {
   "cell_type": "code",
   "execution_count": 54,
   "id": "82cb85fb-65f2-4653-bb3d-e5a9dc3a574f",
   "metadata": {},
   "outputs": [],
   "source": [
    "#    16-32-25-29-33\n",
    "#adad:7-12-11-12-14"
   ]
  },
  {
   "cell_type": "markdown",
   "id": "e533d373-d284-4790-874a-64f074ac6067",
   "metadata": {},
   "source": [
    "#### Full size"
   ]
  },
  {
   "cell_type": "code",
   "execution_count": 4,
   "id": "9dd57e04-1e98-4be1-bcee-75b582cf75fc",
   "metadata": {},
   "outputs": [
    {
     "name": "stdout",
     "output_type": "stream",
     "text": [
      "Initial target samples amount: 249; non target samples amount: 1058; final amount: 2116\n",
      "Testing batch_size 2\n",
      "success\n",
      "Freemem: 13811843072\n",
      "Testing batch_size 3\n",
      "success\n",
      "Freemem: 12918456320\n",
      "Testing batch_size 16\n",
      "success\n",
      "Freemem: 1945378816\n",
      "Selected batch_size 16\n",
      "Training...\n",
      "Training finished successfully in 2 epochs\n"
     ]
    },
    {
     "name": "stderr",
     "output_type": "stream",
     "text": [
      "Registered model '._data_temp_wheels_two_scale_1__assembly' already exists. Creating a new version of this model...\n",
      "Created version '2' of model '._data_temp_wheels_two_scale_1__assembly'.\n"
     ]
    },
    {
     "name": "stdout",
     "output_type": "stream",
     "text": [
      "🏃 View run ._data_temp_wheels_two_scale_1__assembly at: http://127.0.0.1:8080/#/experiments/482274532250461682/runs/e363cfdb3a6f4b7bbfe388b39ce9a407\n",
      "🧪 View experiment at: http://127.0.0.1:8080/#/experiments/482274532250461682\n"
     ]
    }
   ],
   "source": [
    "model = trainer.train_model(folder='./data/temp/wheels_two/scale_1/', target_class='assembly')"
   ]
  },
  {
   "cell_type": "code",
   "execution_count": 5,
   "id": "c374e519-f7ce-449f-a8e8-b28923b52387",
   "metadata": {},
   "outputs": [
    {
     "name": "stdout",
     "output_type": "stream",
     "text": [
      "Training existing model\n",
      "Initial target samples amount: 238; non target samples amount: 1069; final amount: 2138\n",
      "Reused batch_size 16\n",
      "Training...\n",
      "Training finished successfully in 1 epochs\n"
     ]
    },
    {
     "name": "stderr",
     "output_type": "stream",
     "text": [
      "Registered model '._data_temp_wheels_two_scale_1__base' already exists. Creating a new version of this model...\n",
      "Created version '2' of model '._data_temp_wheels_two_scale_1__base'.\n"
     ]
    },
    {
     "name": "stdout",
     "output_type": "stream",
     "text": [
      "🏃 View run ._data_temp_wheels_two_scale_1__base at: http://127.0.0.1:8080/#/experiments/482274532250461682/runs/14fd8b3dd9b9472fa968384532bc52eb\n",
      "🧪 View experiment at: http://127.0.0.1:8080/#/experiments/482274532250461682\n"
     ]
    }
   ],
   "source": [
    "model = trainer.train_model(folder='./data/temp/wheels_two/scale_1/', target_class='base', model=model)"
   ]
  },
  {
   "cell_type": "code",
   "execution_count": 6,
   "id": "fb2a1184-df6a-48b2-9e07-899b3d19c135",
   "metadata": {},
   "outputs": [
    {
     "name": "stdout",
     "output_type": "stream",
     "text": [
      "Training existing model\n",
      "Initial target samples amount: 255; non target samples amount: 1052; final amount: 2104\n",
      "Reused batch_size 16\n",
      "Training...\n",
      "Training finished successfully in 1 epochs\n"
     ]
    },
    {
     "name": "stderr",
     "output_type": "stream",
     "text": [
      "Registered model '._data_temp_wheels_two_scale_1__screw' already exists. Creating a new version of this model...\n",
      "Created version '2' of model '._data_temp_wheels_two_scale_1__screw'.\n"
     ]
    },
    {
     "name": "stdout",
     "output_type": "stream",
     "text": [
      "🏃 View run ._data_temp_wheels_two_scale_1__screw at: http://127.0.0.1:8080/#/experiments/482274532250461682/runs/5a707558cef540bb931a7c1358757235\n",
      "🧪 View experiment at: http://127.0.0.1:8080/#/experiments/482274532250461682\n"
     ]
    }
   ],
   "source": [
    "model = trainer.train_model(folder='./data/temp/wheels_two/scale_1/', target_class='screw', model=model)"
   ]
  },
  {
   "cell_type": "code",
   "execution_count": 7,
   "id": "92cf7b5a-4045-4489-af84-3323602198aa",
   "metadata": {},
   "outputs": [
    {
     "name": "stdout",
     "output_type": "stream",
     "text": [
      "Training existing model\n",
      "Initial target samples amount: 303; non target samples amount: 1004; final amount: 2008\n",
      "Reused batch_size 16\n",
      "Training...\n",
      "Training finished successfully in 2 epochs\n"
     ]
    },
    {
     "name": "stderr",
     "output_type": "stream",
     "text": [
      "Registered model '._data_temp_wheels_two_scale_1__yellow' already exists. Creating a new version of this model...\n",
      "Created version '2' of model '._data_temp_wheels_two_scale_1__yellow'.\n"
     ]
    },
    {
     "name": "stdout",
     "output_type": "stream",
     "text": [
      "🏃 View run ._data_temp_wheels_two_scale_1__yellow at: http://127.0.0.1:8080/#/experiments/482274532250461682/runs/a86032f0f26441e68c1d8a3564a37bb9\n",
      "🧪 View experiment at: http://127.0.0.1:8080/#/experiments/482274532250461682\n"
     ]
    }
   ],
   "source": [
    "model = trainer.train_model(folder='./data/temp/wheels_two/scale_1/', target_class='yellow', model=model)"
   ]
  },
  {
   "cell_type": "code",
   "execution_count": 8,
   "id": "7851fd1a-e06a-40f2-98c0-d48b6a5083e1",
   "metadata": {},
   "outputs": [
    {
     "name": "stdout",
     "output_type": "stream",
     "text": [
      "Training existing model\n",
      "Initial target samples amount: 262; non target samples amount: 1045; final amount: 2090\n",
      "Reused batch_size 16\n",
      "Training...\n",
      "Training finished successfully in 2 epochs\n"
     ]
    },
    {
     "name": "stderr",
     "output_type": "stream",
     "text": [
      "Registered model '._data_temp_wheels_two_scale_1__yellow_marked' already exists. Creating a new version of this model...\n",
      "Created version '2' of model '._data_temp_wheels_two_scale_1__yellow_marked'.\n"
     ]
    },
    {
     "name": "stdout",
     "output_type": "stream",
     "text": [
      "🏃 View run ._data_temp_wheels_two_scale_1__yellow_marked at: http://127.0.0.1:8080/#/experiments/482274532250461682/runs/53652f0a87164469a89d86d9519ff92e\n",
      "🧪 View experiment at: http://127.0.0.1:8080/#/experiments/482274532250461682\n"
     ]
    }
   ],
   "source": [
    "model = trainer.train_model(folder='./data/temp/wheels_two/scale_1/', target_class='yellow_marked', model=model)"
   ]
  },
  {
   "cell_type": "code",
   "execution_count": null,
   "id": "fda2712d-ab51-457d-b341-f75717a9bdb8",
   "metadata": {},
   "outputs": [],
   "source": [
    "1/0"
   ]
  },
  {
   "cell_type": "code",
   "execution_count": null,
   "id": "18c0a96a-46ee-42d7-a518-6a3259d978d1",
   "metadata": {},
   "outputs": [],
   "source": [
    "from matplotlib import pyplot as plt\n",
    "from PIL import Image\n",
    "from IPython.display import display\n",
    "def show_img(t):\n",
    "    img = t * 0.5 + 0.5\n",
    "    img = img.clamp(0, 1) \n",
    "    \n",
    "    to_img = transforms.ToPILImage()\n",
    "    img = to_img(img)\n",
    "\n",
    "    plt.imshow(img, cmap='gray')\n",
    "    plt.show()"
   ]
  },
  {
   "cell_type": "code",
   "execution_count": null,
   "id": "38233774-7f3a-4518-aac7-4b62ab22b148",
   "metadata": {},
   "outputs": [
    {
     "ename": "NameError",
     "evalue": "name 'train_loader' is not defined",
     "output_type": "error",
     "traceback": [
      "\u001b[31m---------------------------------------------------------------------------\u001b[39m",
      "\u001b[31mNameError\u001b[39m                                 Traceback (most recent call last)",
      "\u001b[36mCell\u001b[39m\u001b[36m \u001b[39m\u001b[32mIn[66]\u001b[39m\u001b[32m, line 1\u001b[39m\n\u001b[32m----> \u001b[39m\u001b[32m1\u001b[39m dl = train_loader.dataset\n\u001b[32m      3\u001b[39m imgs, _ = \u001b[38;5;28mnext\u001b[39m(\u001b[38;5;28miter\u001b[39m(dl))\n\u001b[32m      4\u001b[39m show_img(imgs[\u001b[32m0\u001b[39m])\n",
      "\u001b[31mNameError\u001b[39m: name 'train_loader' is not defined"
     ]
    }
   ],
   "source": [
    "dl = train_loader.dataset\n",
    "\n",
    "imgs, _ = next(iter(dl))\n",
    "show_img(imgs[0])\n",
    "\n",
    "imgs, _ = next(iter(dl))\n",
    "show_img(imgs[0])"
   ]
  },
  {
   "cell_type": "code",
   "execution_count": null,
   "id": "df0378bf-c1af-4343-86d1-68b27f79f960",
   "metadata": {},
   "outputs": [],
   "source": []
  },
  {
   "cell_type": "code",
   "execution_count": null,
   "id": "cbe70124",
   "metadata": {},
   "outputs": [],
   "source": [
    "model = trainer.train_model(folder='./data/temp/wheels_three/scale_0.15/')"
   ]
  }
 ],
 "metadata": {
  "kernelspec": {
   "display_name": "AssemblyInspector",
   "language": "python",
   "name": "python3"
  },
  "language_info": {
   "codemirror_mode": {
    "name": "ipython",
    "version": 3
   },
   "file_extension": ".py",
   "mimetype": "text/x-python",
   "name": "python",
   "nbconvert_exporter": "python",
   "pygments_lexer": "ipython3",
   "version": "3.13.2"
  },
  "widgets": {
   "application/vnd.jupyter.widget-state+json": {
    "state": {},
    "version_major": 2,
    "version_minor": 0
   }
  }
 },
 "nbformat": 4,
 "nbformat_minor": 5
}
